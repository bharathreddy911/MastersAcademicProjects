{
 "cells": [
  {
   "cell_type": "markdown",
   "id": "acc92cbd",
   "metadata": {},
   "source": [
    "# Business Case: Netflix - Data Exploration and Visualisation"
   ]
  },
  {
   "cell_type": "code",
   "execution_count": 213,
   "id": "aa7d9110",
   "metadata": {},
   "outputs": [],
   "source": [
    "import pandas as pd\n",
    "import numpy as np\n",
    "import matplotlib.pyplot as plt\n",
    "import seaborn as sns"
   ]
  },
  {
   "cell_type": "code",
   "execution_count": 214,
   "id": "a39eaaa9",
   "metadata": {},
   "outputs": [],
   "source": [
    "df = pd.read_csv(\"netflix.csv\")"
   ]
  },
  {
   "cell_type": "markdown",
   "id": "5a2cd88b",
   "metadata": {},
   "source": [
    "### 1. Defining Problem Statement and Analysing basic metrics (10 Points)\n",
    "\n",
    "#### Ans. To analyze the data and generate insights that could help Netflix which type of shows/movies to produce and how they can grow the business in different countries"
   ]
  },
  {
   "cell_type": "code",
   "execution_count": 215,
   "id": "9080ff9f",
   "metadata": {},
   "outputs": [
    {
     "data": {
      "text/html": [
       "<div>\n",
       "<style scoped>\n",
       "    .dataframe tbody tr th:only-of-type {\n",
       "        vertical-align: middle;\n",
       "    }\n",
       "\n",
       "    .dataframe tbody tr th {\n",
       "        vertical-align: top;\n",
       "    }\n",
       "\n",
       "    .dataframe thead th {\n",
       "        text-align: right;\n",
       "    }\n",
       "</style>\n",
       "<table border=\"1\" class=\"dataframe\">\n",
       "  <thead>\n",
       "    <tr style=\"text-align: right;\">\n",
       "      <th></th>\n",
       "      <th>show_id</th>\n",
       "      <th>type</th>\n",
       "      <th>title</th>\n",
       "      <th>director</th>\n",
       "      <th>cast</th>\n",
       "      <th>country</th>\n",
       "      <th>date_added</th>\n",
       "      <th>release_year</th>\n",
       "      <th>rating</th>\n",
       "      <th>duration</th>\n",
       "      <th>listed_in</th>\n",
       "      <th>description</th>\n",
       "    </tr>\n",
       "  </thead>\n",
       "  <tbody>\n",
       "    <tr>\n",
       "      <th>0</th>\n",
       "      <td>s1</td>\n",
       "      <td>Movie</td>\n",
       "      <td>Dick Johnson Is Dead</td>\n",
       "      <td>Kirsten Johnson</td>\n",
       "      <td>NaN</td>\n",
       "      <td>United States</td>\n",
       "      <td>September 25, 2021</td>\n",
       "      <td>2020</td>\n",
       "      <td>PG-13</td>\n",
       "      <td>90 min</td>\n",
       "      <td>Documentaries</td>\n",
       "      <td>As her father nears the end of his life, filmm...</td>\n",
       "    </tr>\n",
       "    <tr>\n",
       "      <th>1</th>\n",
       "      <td>s2</td>\n",
       "      <td>TV Show</td>\n",
       "      <td>Blood &amp; Water</td>\n",
       "      <td>NaN</td>\n",
       "      <td>Ama Qamata, Khosi Ngema, Gail Mabalane, Thaban...</td>\n",
       "      <td>South Africa</td>\n",
       "      <td>September 24, 2021</td>\n",
       "      <td>2021</td>\n",
       "      <td>TV-MA</td>\n",
       "      <td>2 Seasons</td>\n",
       "      <td>International TV Shows, TV Dramas, TV Mysteries</td>\n",
       "      <td>After crossing paths at a party, a Cape Town t...</td>\n",
       "    </tr>\n",
       "    <tr>\n",
       "      <th>2</th>\n",
       "      <td>s3</td>\n",
       "      <td>TV Show</td>\n",
       "      <td>Ganglands</td>\n",
       "      <td>Julien Leclercq</td>\n",
       "      <td>Sami Bouajila, Tracy Gotoas, Samuel Jouy, Nabi...</td>\n",
       "      <td>NaN</td>\n",
       "      <td>September 24, 2021</td>\n",
       "      <td>2021</td>\n",
       "      <td>TV-MA</td>\n",
       "      <td>1 Season</td>\n",
       "      <td>Crime TV Shows, International TV Shows, TV Act...</td>\n",
       "      <td>To protect his family from a powerful drug lor...</td>\n",
       "    </tr>\n",
       "    <tr>\n",
       "      <th>3</th>\n",
       "      <td>s4</td>\n",
       "      <td>TV Show</td>\n",
       "      <td>Jailbirds New Orleans</td>\n",
       "      <td>NaN</td>\n",
       "      <td>NaN</td>\n",
       "      <td>NaN</td>\n",
       "      <td>September 24, 2021</td>\n",
       "      <td>2021</td>\n",
       "      <td>TV-MA</td>\n",
       "      <td>1 Season</td>\n",
       "      <td>Docuseries, Reality TV</td>\n",
       "      <td>Feuds, flirtations and toilet talk go down amo...</td>\n",
       "    </tr>\n",
       "    <tr>\n",
       "      <th>4</th>\n",
       "      <td>s5</td>\n",
       "      <td>TV Show</td>\n",
       "      <td>Kota Factory</td>\n",
       "      <td>NaN</td>\n",
       "      <td>Mayur More, Jitendra Kumar, Ranjan Raj, Alam K...</td>\n",
       "      <td>India</td>\n",
       "      <td>September 24, 2021</td>\n",
       "      <td>2021</td>\n",
       "      <td>TV-MA</td>\n",
       "      <td>2 Seasons</td>\n",
       "      <td>International TV Shows, Romantic TV Shows, TV ...</td>\n",
       "      <td>In a city of coaching centers known to train I...</td>\n",
       "    </tr>\n",
       "  </tbody>\n",
       "</table>\n",
       "</div>"
      ],
      "text/plain": [
       "  show_id     type                  title         director  \\\n",
       "0      s1    Movie   Dick Johnson Is Dead  Kirsten Johnson   \n",
       "1      s2  TV Show          Blood & Water              NaN   \n",
       "2      s3  TV Show              Ganglands  Julien Leclercq   \n",
       "3      s4  TV Show  Jailbirds New Orleans              NaN   \n",
       "4      s5  TV Show           Kota Factory              NaN   \n",
       "\n",
       "                                                cast        country  \\\n",
       "0                                                NaN  United States   \n",
       "1  Ama Qamata, Khosi Ngema, Gail Mabalane, Thaban...   South Africa   \n",
       "2  Sami Bouajila, Tracy Gotoas, Samuel Jouy, Nabi...            NaN   \n",
       "3                                                NaN            NaN   \n",
       "4  Mayur More, Jitendra Kumar, Ranjan Raj, Alam K...          India   \n",
       "\n",
       "           date_added  release_year rating   duration  \\\n",
       "0  September 25, 2021          2020  PG-13     90 min   \n",
       "1  September 24, 2021          2021  TV-MA  2 Seasons   \n",
       "2  September 24, 2021          2021  TV-MA   1 Season   \n",
       "3  September 24, 2021          2021  TV-MA   1 Season   \n",
       "4  September 24, 2021          2021  TV-MA  2 Seasons   \n",
       "\n",
       "                                           listed_in  \\\n",
       "0                                      Documentaries   \n",
       "1    International TV Shows, TV Dramas, TV Mysteries   \n",
       "2  Crime TV Shows, International TV Shows, TV Act...   \n",
       "3                             Docuseries, Reality TV   \n",
       "4  International TV Shows, Romantic TV Shows, TV ...   \n",
       "\n",
       "                                         description  \n",
       "0  As her father nears the end of his life, filmm...  \n",
       "1  After crossing paths at a party, a Cape Town t...  \n",
       "2  To protect his family from a powerful drug lor...  \n",
       "3  Feuds, flirtations and toilet talk go down amo...  \n",
       "4  In a city of coaching centers known to train I...  "
      ]
     },
     "execution_count": 215,
     "metadata": {},
     "output_type": "execute_result"
    }
   ],
   "source": [
    "df.head()"
   ]
  },
  {
   "cell_type": "code",
   "execution_count": null,
   "id": "06447861",
   "metadata": {},
   "outputs": [],
   "source": []
  },
  {
   "cell_type": "markdown",
   "id": "b5af0f3d",
   "metadata": {},
   "source": [
    "### 2. Observations on the shape of data, data types of all the attributes, conversion of categorical attributes to 'category' (If required), missing value detection, statistical summary"
   ]
  },
  {
   "cell_type": "code",
   "execution_count": 216,
   "id": "a9dc1672",
   "metadata": {},
   "outputs": [
    {
     "data": {
      "text/plain": [
       "(8807, 12)"
      ]
     },
     "execution_count": 216,
     "metadata": {},
     "output_type": "execute_result"
    }
   ],
   "source": [
    "df.shape # So 8807 samples are provided in the dataset along with 12 features"
   ]
  },
  {
   "cell_type": "code",
   "execution_count": 217,
   "id": "f6ba363e",
   "metadata": {},
   "outputs": [
    {
     "data": {
      "text/plain": [
       "Index(['show_id', 'type', 'title', 'director', 'cast', 'country', 'date_added',\n",
       "       'release_year', 'rating', 'duration', 'listed_in', 'description'],\n",
       "      dtype='object')"
      ]
     },
     "execution_count": 217,
     "metadata": {},
     "output_type": "execute_result"
    }
   ],
   "source": [
    "df.columns # lets analyze each feature seperately and understand the data"
   ]
  },
  {
   "cell_type": "code",
   "execution_count": 218,
   "id": "01520ceb",
   "metadata": {},
   "outputs": [],
   "source": [
    "uniques,unique_counts = np.unique(df['type'],return_counts=True)"
   ]
  },
  {
   "cell_type": "code",
   "execution_count": 219,
   "id": "45054d58",
   "metadata": {},
   "outputs": [
    {
     "data": {
      "text/plain": [
       "array(['Movie', 'TV Show'], dtype=object)"
      ]
     },
     "execution_count": 219,
     "metadata": {},
     "output_type": "execute_result"
    }
   ],
   "source": [
    "uniques"
   ]
  },
  {
   "cell_type": "code",
   "execution_count": 220,
   "id": "2c58be15",
   "metadata": {},
   "outputs": [
    {
     "data": {
      "text/plain": [
       "array([6131, 2676])"
      ]
     },
     "execution_count": 220,
     "metadata": {},
     "output_type": "execute_result"
    }
   ],
   "source": [
    "unique_counts"
   ]
  },
  {
   "cell_type": "code",
   "execution_count": 221,
   "id": "e170571b",
   "metadata": {},
   "outputs": [],
   "source": [
    "# Type datatype consists of the type of the content weather its a \"movie\" or a \"TV show\", here we have\n",
    "# approximate ratio of 2:1 "
   ]
  },
  {
   "cell_type": "code",
   "execution_count": 222,
   "id": "4bd45298",
   "metadata": {},
   "outputs": [
    {
     "data": {
      "text/plain": [
       "0     Dick Johnson Is Dead\n",
       "1            Blood & Water\n",
       "2                Ganglands\n",
       "3    Jailbirds New Orleans\n",
       "4             Kota Factory\n",
       "Name: title, dtype: object"
      ]
     },
     "execution_count": 222,
     "metadata": {},
     "output_type": "execute_result"
    }
   ],
   "source": [
    "df.title.head()"
   ]
  },
  {
   "cell_type": "code",
   "execution_count": 223,
   "id": "485ad12b",
   "metadata": {},
   "outputs": [],
   "source": [
    "# title tells the name of the movie or the show"
   ]
  },
  {
   "cell_type": "code",
   "execution_count": 224,
   "id": "a8589eda",
   "metadata": {},
   "outputs": [
    {
     "data": {
      "text/plain": [
       "0    Kirsten Johnson\n",
       "1                NaN\n",
       "2    Julien Leclercq\n",
       "3                NaN\n",
       "4                NaN\n",
       "Name: director, dtype: object"
      ]
     },
     "execution_count": 224,
     "metadata": {},
     "output_type": "execute_result"
    }
   ],
   "source": [
    "df['director'].head()"
   ]
  },
  {
   "cell_type": "code",
   "execution_count": 225,
   "id": "7937ae3e",
   "metadata": {},
   "outputs": [],
   "source": [
    "# director : tells the list of directors who directed the content\n",
    "# cast :  tells the aritsts who acted in the movie\n",
    "# country : origin country of the content\n",
    "# date-added : day when the show is added to netflix (DD/MM/YYYY)\n",
    "# release-year : release date of the show (YYYY)\n",
    "# duration : duration of the show\n",
    "# listed_in : list of shows where the content got telecasted\n"
   ]
  },
  {
   "cell_type": "code",
   "execution_count": 226,
   "id": "11d4bbd2",
   "metadata": {},
   "outputs": [
    {
     "data": {
      "text/plain": [
       "TV-MA       3207\n",
       "TV-14       2160\n",
       "TV-PG        863\n",
       "R            799\n",
       "PG-13        490\n",
       "TV-Y7        334\n",
       "TV-Y         307\n",
       "PG           287\n",
       "TV-G         220\n",
       "NR            80\n",
       "G             41\n",
       "TV-Y7-FV       6\n",
       "NC-17          3\n",
       "UR             3\n",
       "74 min         1\n",
       "84 min         1\n",
       "66 min         1\n",
       "Name: rating, dtype: int64"
      ]
     },
     "execution_count": 226,
     "metadata": {},
     "output_type": "execute_result"
    }
   ],
   "source": [
    "df['rating'].value_counts()"
   ]
  },
  {
   "cell_type": "markdown",
   "id": "3276b889",
   "metadata": {},
   "source": [
    "# TV-MA : For Mature Audiences has graphic sex scenes, foul language, explicit violence, or a combination of these elements\n",
    "# TV-14 : Parents strongly cautioned. May not be suitable for ages under 14\n",
    "# TV-PG : Parental Guidance suggested\n",
    "# R : Restricted. May be inappropriate for ages under 17.\n",
    "# PG-13 : Parents strongly cautioned. May be inappropriate for ages under 13.\n",
    "# TV-Y7 : Suitable for ages 7 and up\n",
    "# TV-Y : Appropriate for children of all ages\n",
    "# PG : Parental Guidance suggested\n",
    "# TV-G : suitable for all ages; these are not necessarily children's shows"
   ]
  },
  {
   "cell_type": "code",
   "execution_count": null,
   "id": "b72e882e",
   "metadata": {},
   "outputs": [],
   "source": []
  },
  {
   "cell_type": "code",
   "execution_count": 228,
   "id": "87d7c19a",
   "metadata": {},
   "outputs": [
    {
     "name": "stdout",
     "output_type": "stream",
     "text": [
      "<class 'pandas.core.frame.DataFrame'>\n",
      "RangeIndex: 8807 entries, 0 to 8806\n",
      "Data columns (total 12 columns):\n",
      " #   Column        Non-Null Count  Dtype \n",
      "---  ------        --------------  ----- \n",
      " 0   show_id       8807 non-null   object\n",
      " 1   type          8807 non-null   object\n",
      " 2   title         8807 non-null   object\n",
      " 3   director      6173 non-null   object\n",
      " 4   cast          7982 non-null   object\n",
      " 5   country       7976 non-null   object\n",
      " 6   date_added    8797 non-null   object\n",
      " 7   release_year  8807 non-null   int64 \n",
      " 8   rating        8803 non-null   object\n",
      " 9   duration      8804 non-null   object\n",
      " 10  listed_in     8807 non-null   object\n",
      " 11  description   8807 non-null   object\n",
      "dtypes: int64(1), object(11)\n",
      "memory usage: 825.8+ KB\n"
     ]
    }
   ],
   "source": [
    "df.info()"
   ]
  },
  {
   "cell_type": "code",
   "execution_count": 229,
   "id": "85cbe7c7",
   "metadata": {},
   "outputs": [
    {
     "data": {
      "text/plain": [
       "show_id          0.00\n",
       "type             0.00\n",
       "title            0.00\n",
       "director        29.91\n",
       "cast             9.37\n",
       "country          9.44\n",
       "date_added       0.11\n",
       "release_year     0.00\n",
       "rating           0.05\n",
       "duration         0.03\n",
       "listed_in        0.00\n",
       "description      0.00\n",
       "dtype: float64"
      ]
     },
     "execution_count": 229,
     "metadata": {},
     "output_type": "execute_result"
    }
   ],
   "source": [
    "(100.0*df.isna().sum()/df.shape[0]).round(2)"
   ]
  },
  {
   "cell_type": "code",
   "execution_count": 230,
   "id": "fe1a56e0",
   "metadata": {},
   "outputs": [
    {
     "data": {
      "text/html": [
       "<div>\n",
       "<style scoped>\n",
       "    .dataframe tbody tr th:only-of-type {\n",
       "        vertical-align: middle;\n",
       "    }\n",
       "\n",
       "    .dataframe tbody tr th {\n",
       "        vertical-align: top;\n",
       "    }\n",
       "\n",
       "    .dataframe thead th {\n",
       "        text-align: right;\n",
       "    }\n",
       "</style>\n",
       "<table border=\"1\" class=\"dataframe\">\n",
       "  <thead>\n",
       "    <tr style=\"text-align: right;\">\n",
       "      <th></th>\n",
       "      <th>release_year</th>\n",
       "    </tr>\n",
       "  </thead>\n",
       "  <tbody>\n",
       "    <tr>\n",
       "      <th>count</th>\n",
       "      <td>8807.000000</td>\n",
       "    </tr>\n",
       "    <tr>\n",
       "      <th>mean</th>\n",
       "      <td>2014.180198</td>\n",
       "    </tr>\n",
       "    <tr>\n",
       "      <th>std</th>\n",
       "      <td>8.819312</td>\n",
       "    </tr>\n",
       "    <tr>\n",
       "      <th>min</th>\n",
       "      <td>1925.000000</td>\n",
       "    </tr>\n",
       "    <tr>\n",
       "      <th>25%</th>\n",
       "      <td>2013.000000</td>\n",
       "    </tr>\n",
       "    <tr>\n",
       "      <th>50%</th>\n",
       "      <td>2017.000000</td>\n",
       "    </tr>\n",
       "    <tr>\n",
       "      <th>75%</th>\n",
       "      <td>2019.000000</td>\n",
       "    </tr>\n",
       "    <tr>\n",
       "      <th>max</th>\n",
       "      <td>2021.000000</td>\n",
       "    </tr>\n",
       "  </tbody>\n",
       "</table>\n",
       "</div>"
      ],
      "text/plain": [
       "       release_year\n",
       "count   8807.000000\n",
       "mean    2014.180198\n",
       "std        8.819312\n",
       "min     1925.000000\n",
       "25%     2013.000000\n",
       "50%     2017.000000\n",
       "75%     2019.000000\n",
       "max     2021.000000"
      ]
     },
     "execution_count": 230,
     "metadata": {},
     "output_type": "execute_result"
    }
   ],
   "source": [
    "df.describe()"
   ]
  },
  {
   "cell_type": "code",
   "execution_count": 231,
   "id": "21418dcb",
   "metadata": {},
   "outputs": [
    {
     "data": {
      "text/html": [
       "<div>\n",
       "<style scoped>\n",
       "    .dataframe tbody tr th:only-of-type {\n",
       "        vertical-align: middle;\n",
       "    }\n",
       "\n",
       "    .dataframe tbody tr th {\n",
       "        vertical-align: top;\n",
       "    }\n",
       "\n",
       "    .dataframe thead th {\n",
       "        text-align: right;\n",
       "    }\n",
       "</style>\n",
       "<table border=\"1\" class=\"dataframe\">\n",
       "  <thead>\n",
       "    <tr style=\"text-align: right;\">\n",
       "      <th></th>\n",
       "      <th>show_id</th>\n",
       "      <th>type</th>\n",
       "      <th>title</th>\n",
       "      <th>director</th>\n",
       "      <th>cast</th>\n",
       "      <th>country</th>\n",
       "      <th>date_added</th>\n",
       "      <th>rating</th>\n",
       "      <th>duration</th>\n",
       "      <th>listed_in</th>\n",
       "      <th>description</th>\n",
       "    </tr>\n",
       "  </thead>\n",
       "  <tbody>\n",
       "    <tr>\n",
       "      <th>count</th>\n",
       "      <td>8807</td>\n",
       "      <td>8807</td>\n",
       "      <td>8807</td>\n",
       "      <td>6173</td>\n",
       "      <td>7982</td>\n",
       "      <td>7976</td>\n",
       "      <td>8797</td>\n",
       "      <td>8803</td>\n",
       "      <td>8804</td>\n",
       "      <td>8807</td>\n",
       "      <td>8807</td>\n",
       "    </tr>\n",
       "    <tr>\n",
       "      <th>unique</th>\n",
       "      <td>8807</td>\n",
       "      <td>2</td>\n",
       "      <td>8807</td>\n",
       "      <td>4528</td>\n",
       "      <td>7692</td>\n",
       "      <td>748</td>\n",
       "      <td>1767</td>\n",
       "      <td>17</td>\n",
       "      <td>220</td>\n",
       "      <td>514</td>\n",
       "      <td>8775</td>\n",
       "    </tr>\n",
       "    <tr>\n",
       "      <th>top</th>\n",
       "      <td>s1</td>\n",
       "      <td>Movie</td>\n",
       "      <td>Dick Johnson Is Dead</td>\n",
       "      <td>Rajiv Chilaka</td>\n",
       "      <td>David Attenborough</td>\n",
       "      <td>United States</td>\n",
       "      <td>January 1, 2020</td>\n",
       "      <td>TV-MA</td>\n",
       "      <td>1 Season</td>\n",
       "      <td>Dramas, International Movies</td>\n",
       "      <td>Paranormal activity at a lush, abandoned prope...</td>\n",
       "    </tr>\n",
       "    <tr>\n",
       "      <th>freq</th>\n",
       "      <td>1</td>\n",
       "      <td>6131</td>\n",
       "      <td>1</td>\n",
       "      <td>19</td>\n",
       "      <td>19</td>\n",
       "      <td>2818</td>\n",
       "      <td>109</td>\n",
       "      <td>3207</td>\n",
       "      <td>1793</td>\n",
       "      <td>362</td>\n",
       "      <td>4</td>\n",
       "    </tr>\n",
       "  </tbody>\n",
       "</table>\n",
       "</div>"
      ],
      "text/plain": [
       "       show_id   type                 title       director  \\\n",
       "count     8807   8807                  8807           6173   \n",
       "unique    8807      2                  8807           4528   \n",
       "top         s1  Movie  Dick Johnson Is Dead  Rajiv Chilaka   \n",
       "freq         1   6131                     1             19   \n",
       "\n",
       "                      cast        country       date_added rating  duration  \\\n",
       "count                 7982           7976             8797   8803      8804   \n",
       "unique                7692            748             1767     17       220   \n",
       "top     David Attenborough  United States  January 1, 2020  TV-MA  1 Season   \n",
       "freq                    19           2818              109   3207      1793   \n",
       "\n",
       "                           listed_in  \\\n",
       "count                           8807   \n",
       "unique                           514   \n",
       "top     Dramas, International Movies   \n",
       "freq                             362   \n",
       "\n",
       "                                              description  \n",
       "count                                                8807  \n",
       "unique                                               8775  \n",
       "top     Paranormal activity at a lush, abandoned prope...  \n",
       "freq                                                    4  "
      ]
     },
     "execution_count": 231,
     "metadata": {},
     "output_type": "execute_result"
    }
   ],
   "source": [
    "df.describe(include='object')"
   ]
  },
  {
   "cell_type": "code",
   "execution_count": null,
   "id": "1b0867c3",
   "metadata": {},
   "outputs": [],
   "source": []
  },
  {
   "cell_type": "markdown",
   "id": "c23c9ce6",
   "metadata": {},
   "source": [
    "### 5. Missing Value & Outlier check (Treatment optional)"
   ]
  },
  {
   "cell_type": "code",
   "execution_count": 232,
   "id": "f0b02809",
   "metadata": {},
   "outputs": [],
   "source": [
    "def stacking(df,col):\n",
    "    col_list = df[col].apply(lambda x : str(x).split(', ')).tolist()\n",
    "    df_col = pd.DataFrame(col_list,index=df['title'])\n",
    "    df_col = df_col.stack()\n",
    "    df_col = pd.DataFrame(df_col)\n",
    "    df_col.reset_index(inplace=True)\n",
    "    df_col=df_col[['title', 0]]\n",
    "    df_col.columns = ['title', col]\n",
    "    return df_col"
   ]
  },
  {
   "cell_type": "code",
   "execution_count": 233,
   "id": "7783efc9",
   "metadata": {},
   "outputs": [],
   "source": [
    "df_dir = stacking(df,'director')\n",
    "df_cast = stacking(df,'cast')\n",
    "df_country = stacking(df,'country')\n",
    "df_listed = stacking(df,'listed_in')"
   ]
  },
  {
   "cell_type": "code",
   "execution_count": 234,
   "id": "8feac4ce",
   "metadata": {},
   "outputs": [],
   "source": [
    "df_final = df_dir.merge(df_cast,on='title')\n",
    "df_final = df_final.merge(df_country,on='title')\n",
    "df_final = df_final.merge(df_listed,on='title')"
   ]
  },
  {
   "cell_type": "code",
   "execution_count": 235,
   "id": "39e6421e",
   "metadata": {},
   "outputs": [],
   "source": [
    "df_final.drop_duplicates(inplace=True)  \n",
    "# dropping duplicates because in some cases in the cast names have repeated twice"
   ]
  },
  {
   "cell_type": "code",
   "execution_count": 236,
   "id": "14aeee85",
   "metadata": {},
   "outputs": [
    {
     "data": {
      "text/plain": [
       "Index(['title', 'director', 'cast', 'country', 'listed_in'], dtype='object')"
      ]
     },
     "execution_count": 236,
     "metadata": {},
     "output_type": "execute_result"
    }
   ],
   "source": [
    "df_final.columns"
   ]
  },
  {
   "cell_type": "code",
   "execution_count": 237,
   "id": "9dade9cc",
   "metadata": {
    "scrolled": true
   },
   "outputs": [
    {
     "data": {
      "text/plain": [
       "Index(['show_id', 'type', 'title', 'director', 'cast', 'country', 'date_added',\n",
       "       'release_year', 'rating', 'duration', 'listed_in', 'description'],\n",
       "      dtype='object')"
      ]
     },
     "execution_count": 237,
     "metadata": {},
     "output_type": "execute_result"
    }
   ],
   "source": [
    "df.columns"
   ]
  },
  {
   "cell_type": "code",
   "execution_count": null,
   "id": "9b42da58",
   "metadata": {
    "scrolled": true
   },
   "outputs": [],
   "source": []
  },
  {
   "cell_type": "code",
   "execution_count": null,
   "id": "99d159e8",
   "metadata": {},
   "outputs": [],
   "source": []
  },
  {
   "cell_type": "code",
   "execution_count": 238,
   "id": "b47b633a",
   "metadata": {},
   "outputs": [],
   "source": [
    "df_t = df_final[['director','country','title']].drop_duplicates().replace('nan',np.nan).dropna()"
   ]
  },
  {
   "cell_type": "code",
   "execution_count": 239,
   "id": "ce020323",
   "metadata": {},
   "outputs": [],
   "source": [
    "df_t1 = df_t.groupby(['director','country']).count().reset_index()"
   ]
  },
  {
   "cell_type": "code",
   "execution_count": 240,
   "id": "5eafd674",
   "metadata": {},
   "outputs": [],
   "source": [
    "def samp_fun(sub_df):\n",
    "    argmx = sub_df['title'].argmax()\n",
    "    return sub_df.iloc[argmx,1]"
   ]
  },
  {
   "cell_type": "code",
   "execution_count": 241,
   "id": "717e09da",
   "metadata": {},
   "outputs": [],
   "source": [
    "dir_cnt = df_t1.groupby(['director']).apply(samp_fun)"
   ]
  },
  {
   "cell_type": "code",
   "execution_count": 242,
   "id": "86c81f67",
   "metadata": {},
   "outputs": [
    {
     "data": {
      "text/plain": [
       "director\n",
       "A. L. Vijay              India\n",
       "A. Raajdheep             India\n",
       "A. Salaam                India\n",
       "A.R. Murugadoss          India\n",
       "Aadish Keluskar          India\n",
       "                        ...   \n",
       "Éric Warin              Canada\n",
       "Ísold Uggadóttir       Belgium\n",
       "Óskar Thór Axelsson    Iceland\n",
       "Ömer Faruk Sorak        Turkey\n",
       "Şenol Sönmez            Turkey\n",
       "Length: 4739, dtype: object"
      ]
     },
     "execution_count": 242,
     "metadata": {},
     "output_type": "execute_result"
    }
   ],
   "source": [
    "dir_cnt"
   ]
  },
  {
   "cell_type": "code",
   "execution_count": 243,
   "id": "20352e88",
   "metadata": {},
   "outputs": [],
   "source": [
    "df_t = df_final[['cast','country','title']].drop_duplicates().replace('nan',np.nan).dropna()"
   ]
  },
  {
   "cell_type": "code",
   "execution_count": 244,
   "id": "41e68222",
   "metadata": {},
   "outputs": [],
   "source": [
    "df_t1 = df_t.groupby(['cast','country']).count().reset_index()"
   ]
  },
  {
   "cell_type": "code",
   "execution_count": 245,
   "id": "fd0353ce",
   "metadata": {},
   "outputs": [],
   "source": [
    "cast_cnt = df_t1.groupby(['cast']).apply(samp_fun)"
   ]
  },
  {
   "cell_type": "code",
   "execution_count": 246,
   "id": "c337572c",
   "metadata": {},
   "outputs": [
    {
     "data": {
      "text/plain": [
       "cast\n",
       " Jr.                      United States\n",
       "\"Riley\" Lakdhar Dridi            France\n",
       "'Najite Dede                    Nigeria\n",
       "2 Chainz                  United States\n",
       "2Mex                      United States\n",
       "                              ...      \n",
       "Şevket Çoruh                     Turkey\n",
       "Şinasi Yurtsever                 Turkey\n",
       "Şükran Ovalı                     Turkey\n",
       "Şükrü Özyıldız                   Turkey\n",
       "Ṣọpẹ́ Dìrísù             United Kingdom\n",
       "Length: 34321, dtype: object"
      ]
     },
     "execution_count": 246,
     "metadata": {},
     "output_type": "execute_result"
    }
   ],
   "source": [
    "cast_cnt"
   ]
  },
  {
   "cell_type": "code",
   "execution_count": 247,
   "id": "8898825f",
   "metadata": {},
   "outputs": [],
   "source": [
    "def replace_dir_cnt(row):\n",
    "    if row['country']=='nan':\n",
    "        if row['director']!='nan' and row['director'] in dir_cnt:\n",
    "            return dir_cnt[row['director']]\n",
    "        elif row['cast']!='nan' and row['cast'] in cast_cnt:\n",
    "            return cast_cnt[row['cast']]\n",
    "        else:\n",
    "            return row['country']\n",
    "        \n",
    "    else:\n",
    "        return row['country']"
   ]
  },
  {
   "cell_type": "code",
   "execution_count": 248,
   "id": "ef767ff0",
   "metadata": {},
   "outputs": [],
   "source": [
    "df_final['country_imput'] = df_final.apply(replace_dir_cnt,axis=1)"
   ]
  },
  {
   "cell_type": "code",
   "execution_count": 249,
   "id": "c1f1f1fa",
   "metadata": {},
   "outputs": [
    {
     "data": {
      "text/html": [
       "<div>\n",
       "<style scoped>\n",
       "    .dataframe tbody tr th:only-of-type {\n",
       "        vertical-align: middle;\n",
       "    }\n",
       "\n",
       "    .dataframe tbody tr th {\n",
       "        vertical-align: top;\n",
       "    }\n",
       "\n",
       "    .dataframe thead th {\n",
       "        text-align: right;\n",
       "    }\n",
       "</style>\n",
       "<table border=\"1\" class=\"dataframe\">\n",
       "  <thead>\n",
       "    <tr style=\"text-align: right;\">\n",
       "      <th></th>\n",
       "      <th>title</th>\n",
       "      <th>director</th>\n",
       "      <th>cast</th>\n",
       "      <th>country</th>\n",
       "      <th>listed_in</th>\n",
       "      <th>country_imput</th>\n",
       "    </tr>\n",
       "  </thead>\n",
       "  <tbody>\n",
       "    <tr>\n",
       "      <th>0</th>\n",
       "      <td>Dick Johnson Is Dead</td>\n",
       "      <td>Kirsten Johnson</td>\n",
       "      <td>nan</td>\n",
       "      <td>United States</td>\n",
       "      <td>Documentaries</td>\n",
       "      <td>United States</td>\n",
       "    </tr>\n",
       "    <tr>\n",
       "      <th>1</th>\n",
       "      <td>Blood &amp; Water</td>\n",
       "      <td>nan</td>\n",
       "      <td>Ama Qamata</td>\n",
       "      <td>South Africa</td>\n",
       "      <td>International TV Shows</td>\n",
       "      <td>South Africa</td>\n",
       "    </tr>\n",
       "    <tr>\n",
       "      <th>2</th>\n",
       "      <td>Blood &amp; Water</td>\n",
       "      <td>nan</td>\n",
       "      <td>Ama Qamata</td>\n",
       "      <td>South Africa</td>\n",
       "      <td>TV Dramas</td>\n",
       "      <td>South Africa</td>\n",
       "    </tr>\n",
       "    <tr>\n",
       "      <th>3</th>\n",
       "      <td>Blood &amp; Water</td>\n",
       "      <td>nan</td>\n",
       "      <td>Ama Qamata</td>\n",
       "      <td>South Africa</td>\n",
       "      <td>TV Mysteries</td>\n",
       "      <td>South Africa</td>\n",
       "    </tr>\n",
       "    <tr>\n",
       "      <th>4</th>\n",
       "      <td>Blood &amp; Water</td>\n",
       "      <td>nan</td>\n",
       "      <td>Khosi Ngema</td>\n",
       "      <td>South Africa</td>\n",
       "      <td>International TV Shows</td>\n",
       "      <td>South Africa</td>\n",
       "    </tr>\n",
       "  </tbody>\n",
       "</table>\n",
       "</div>"
      ],
      "text/plain": [
       "                  title         director         cast        country  \\\n",
       "0  Dick Johnson Is Dead  Kirsten Johnson          nan  United States   \n",
       "1         Blood & Water              nan   Ama Qamata   South Africa   \n",
       "2         Blood & Water              nan   Ama Qamata   South Africa   \n",
       "3         Blood & Water              nan   Ama Qamata   South Africa   \n",
       "4         Blood & Water              nan  Khosi Ngema   South Africa   \n",
       "\n",
       "                listed_in  country_imput  \n",
       "0           Documentaries  United States  \n",
       "1  International TV Shows   South Africa  \n",
       "2               TV Dramas   South Africa  \n",
       "3            TV Mysteries   South Africa  \n",
       "4  International TV Shows   South Africa  "
      ]
     },
     "execution_count": 249,
     "metadata": {},
     "output_type": "execute_result"
    }
   ],
   "source": [
    "df_final.head()"
   ]
  },
  {
   "cell_type": "code",
   "execution_count": null,
   "id": "568e98ab",
   "metadata": {},
   "outputs": [],
   "source": []
  },
  {
   "cell_type": "code",
   "execution_count": null,
   "id": "d0b52501",
   "metadata": {},
   "outputs": [],
   "source": []
  },
  {
   "cell_type": "code",
   "execution_count": 250,
   "id": "a5dd779f",
   "metadata": {
    "scrolled": true
   },
   "outputs": [],
   "source": [
    "# data miss written in the rating column instead of duration column so adjusting the data"
   ]
  },
  {
   "cell_type": "code",
   "execution_count": 251,
   "id": "f8e7fec3",
   "metadata": {
    "scrolled": true
   },
   "outputs": [],
   "source": [
    "df.loc[df['duration'].isna(),'duration'] = df.loc[df['duration'].isna(),'rating']"
   ]
  },
  {
   "cell_type": "code",
   "execution_count": 252,
   "id": "40cbef14",
   "metadata": {},
   "outputs": [
    {
     "data": {
      "text/plain": [
       "2    8807\n",
       "Name: duration, dtype: int64"
      ]
     },
     "execution_count": 252,
     "metadata": {},
     "output_type": "execute_result"
    }
   ],
   "source": [
    "(df['duration'].apply(lambda x : len(x.split()))).value_counts()"
   ]
  },
  {
   "cell_type": "code",
   "execution_count": 253,
   "id": "d7e7442e",
   "metadata": {},
   "outputs": [],
   "source": [
    "df_dur = pd.DataFrame(df['duration'].apply(lambda x : x.split()).tolist())"
   ]
  },
  {
   "cell_type": "code",
   "execution_count": 254,
   "id": "e970228e",
   "metadata": {},
   "outputs": [],
   "source": [
    "df_dur.columns=['duration_time','duration_units']"
   ]
  },
  {
   "cell_type": "code",
   "execution_count": 255,
   "id": "99a76776",
   "metadata": {
    "scrolled": true
   },
   "outputs": [],
   "source": [
    "df = pd.concat([df,df_dur],axis=1)"
   ]
  },
  {
   "cell_type": "code",
   "execution_count": 256,
   "id": "62370e80",
   "metadata": {
    "scrolled": true
   },
   "outputs": [
    {
     "data": {
      "text/html": [
       "<div>\n",
       "<style scoped>\n",
       "    .dataframe tbody tr th:only-of-type {\n",
       "        vertical-align: middle;\n",
       "    }\n",
       "\n",
       "    .dataframe tbody tr th {\n",
       "        vertical-align: top;\n",
       "    }\n",
       "\n",
       "    .dataframe thead th {\n",
       "        text-align: right;\n",
       "    }\n",
       "</style>\n",
       "<table border=\"1\" class=\"dataframe\">\n",
       "  <thead>\n",
       "    <tr style=\"text-align: right;\">\n",
       "      <th></th>\n",
       "      <th>show_id</th>\n",
       "      <th>type</th>\n",
       "      <th>title</th>\n",
       "      <th>director</th>\n",
       "      <th>cast</th>\n",
       "      <th>country</th>\n",
       "      <th>date_added</th>\n",
       "      <th>release_year</th>\n",
       "      <th>rating</th>\n",
       "      <th>duration</th>\n",
       "      <th>listed_in</th>\n",
       "      <th>description</th>\n",
       "      <th>duration_time</th>\n",
       "      <th>duration_units</th>\n",
       "    </tr>\n",
       "  </thead>\n",
       "  <tbody>\n",
       "    <tr>\n",
       "      <th>0</th>\n",
       "      <td>s1</td>\n",
       "      <td>Movie</td>\n",
       "      <td>Dick Johnson Is Dead</td>\n",
       "      <td>Kirsten Johnson</td>\n",
       "      <td>NaN</td>\n",
       "      <td>United States</td>\n",
       "      <td>September 25, 2021</td>\n",
       "      <td>2020</td>\n",
       "      <td>PG-13</td>\n",
       "      <td>90 min</td>\n",
       "      <td>Documentaries</td>\n",
       "      <td>As her father nears the end of his life, filmm...</td>\n",
       "      <td>90</td>\n",
       "      <td>min</td>\n",
       "    </tr>\n",
       "    <tr>\n",
       "      <th>1</th>\n",
       "      <td>s2</td>\n",
       "      <td>TV Show</td>\n",
       "      <td>Blood &amp; Water</td>\n",
       "      <td>NaN</td>\n",
       "      <td>Ama Qamata, Khosi Ngema, Gail Mabalane, Thaban...</td>\n",
       "      <td>South Africa</td>\n",
       "      <td>September 24, 2021</td>\n",
       "      <td>2021</td>\n",
       "      <td>TV-MA</td>\n",
       "      <td>2 Seasons</td>\n",
       "      <td>International TV Shows, TV Dramas, TV Mysteries</td>\n",
       "      <td>After crossing paths at a party, a Cape Town t...</td>\n",
       "      <td>2</td>\n",
       "      <td>Seasons</td>\n",
       "    </tr>\n",
       "    <tr>\n",
       "      <th>2</th>\n",
       "      <td>s3</td>\n",
       "      <td>TV Show</td>\n",
       "      <td>Ganglands</td>\n",
       "      <td>Julien Leclercq</td>\n",
       "      <td>Sami Bouajila, Tracy Gotoas, Samuel Jouy, Nabi...</td>\n",
       "      <td>NaN</td>\n",
       "      <td>September 24, 2021</td>\n",
       "      <td>2021</td>\n",
       "      <td>TV-MA</td>\n",
       "      <td>1 Season</td>\n",
       "      <td>Crime TV Shows, International TV Shows, TV Act...</td>\n",
       "      <td>To protect his family from a powerful drug lor...</td>\n",
       "      <td>1</td>\n",
       "      <td>Season</td>\n",
       "    </tr>\n",
       "    <tr>\n",
       "      <th>3</th>\n",
       "      <td>s4</td>\n",
       "      <td>TV Show</td>\n",
       "      <td>Jailbirds New Orleans</td>\n",
       "      <td>NaN</td>\n",
       "      <td>NaN</td>\n",
       "      <td>NaN</td>\n",
       "      <td>September 24, 2021</td>\n",
       "      <td>2021</td>\n",
       "      <td>TV-MA</td>\n",
       "      <td>1 Season</td>\n",
       "      <td>Docuseries, Reality TV</td>\n",
       "      <td>Feuds, flirtations and toilet talk go down amo...</td>\n",
       "      <td>1</td>\n",
       "      <td>Season</td>\n",
       "    </tr>\n",
       "    <tr>\n",
       "      <th>4</th>\n",
       "      <td>s5</td>\n",
       "      <td>TV Show</td>\n",
       "      <td>Kota Factory</td>\n",
       "      <td>NaN</td>\n",
       "      <td>Mayur More, Jitendra Kumar, Ranjan Raj, Alam K...</td>\n",
       "      <td>India</td>\n",
       "      <td>September 24, 2021</td>\n",
       "      <td>2021</td>\n",
       "      <td>TV-MA</td>\n",
       "      <td>2 Seasons</td>\n",
       "      <td>International TV Shows, Romantic TV Shows, TV ...</td>\n",
       "      <td>In a city of coaching centers known to train I...</td>\n",
       "      <td>2</td>\n",
       "      <td>Seasons</td>\n",
       "    </tr>\n",
       "  </tbody>\n",
       "</table>\n",
       "</div>"
      ],
      "text/plain": [
       "  show_id     type                  title         director  \\\n",
       "0      s1    Movie   Dick Johnson Is Dead  Kirsten Johnson   \n",
       "1      s2  TV Show          Blood & Water              NaN   \n",
       "2      s3  TV Show              Ganglands  Julien Leclercq   \n",
       "3      s4  TV Show  Jailbirds New Orleans              NaN   \n",
       "4      s5  TV Show           Kota Factory              NaN   \n",
       "\n",
       "                                                cast        country  \\\n",
       "0                                                NaN  United States   \n",
       "1  Ama Qamata, Khosi Ngema, Gail Mabalane, Thaban...   South Africa   \n",
       "2  Sami Bouajila, Tracy Gotoas, Samuel Jouy, Nabi...            NaN   \n",
       "3                                                NaN            NaN   \n",
       "4  Mayur More, Jitendra Kumar, Ranjan Raj, Alam K...          India   \n",
       "\n",
       "           date_added  release_year rating   duration  \\\n",
       "0  September 25, 2021          2020  PG-13     90 min   \n",
       "1  September 24, 2021          2021  TV-MA  2 Seasons   \n",
       "2  September 24, 2021          2021  TV-MA   1 Season   \n",
       "3  September 24, 2021          2021  TV-MA   1 Season   \n",
       "4  September 24, 2021          2021  TV-MA  2 Seasons   \n",
       "\n",
       "                                           listed_in  \\\n",
       "0                                      Documentaries   \n",
       "1    International TV Shows, TV Dramas, TV Mysteries   \n",
       "2  Crime TV Shows, International TV Shows, TV Act...   \n",
       "3                             Docuseries, Reality TV   \n",
       "4  International TV Shows, Romantic TV Shows, TV ...   \n",
       "\n",
       "                                         description duration_time  \\\n",
       "0  As her father nears the end of his life, filmm...            90   \n",
       "1  After crossing paths at a party, a Cape Town t...             2   \n",
       "2  To protect his family from a powerful drug lor...             1   \n",
       "3  Feuds, flirtations and toilet talk go down amo...             1   \n",
       "4  In a city of coaching centers known to train I...             2   \n",
       "\n",
       "  duration_units  \n",
       "0            min  \n",
       "1        Seasons  \n",
       "2         Season  \n",
       "3         Season  \n",
       "4        Seasons  "
      ]
     },
     "execution_count": 256,
     "metadata": {},
     "output_type": "execute_result"
    }
   ],
   "source": [
    "df.head()"
   ]
  },
  {
   "cell_type": "code",
   "execution_count": null,
   "id": "af569dc3",
   "metadata": {},
   "outputs": [],
   "source": []
  },
  {
   "cell_type": "code",
   "execution_count": 257,
   "id": "d530c5b2",
   "metadata": {},
   "outputs": [],
   "source": [
    "df['date_added'] = pd.to_datetime(df['date_added'])"
   ]
  },
  {
   "cell_type": "code",
   "execution_count": 258,
   "id": "971c9b10",
   "metadata": {
    "scrolled": true
   },
   "outputs": [],
   "source": [
    "df.loc[df['date_added'].isna(),'date_added'] = pd.to_datetime(df.loc[df['date_added'].isna(),'release_year'],format='%Y')"
   ]
  },
  {
   "cell_type": "code",
   "execution_count": 259,
   "id": "285ee364",
   "metadata": {},
   "outputs": [
    {
     "data": {
      "text/plain": [
       "0"
      ]
     },
     "execution_count": 259,
     "metadata": {},
     "output_type": "execute_result"
    }
   ],
   "source": [
    "df['date_added'].isna().sum()"
   ]
  },
  {
   "cell_type": "code",
   "execution_count": null,
   "id": "301ec942",
   "metadata": {},
   "outputs": [],
   "source": []
  },
  {
   "cell_type": "code",
   "execution_count": null,
   "id": "b9298fa5",
   "metadata": {},
   "outputs": [],
   "source": []
  },
  {
   "cell_type": "markdown",
   "id": "445bed46",
   "metadata": {},
   "source": [
    "### 3. Non-Graphical Analysis: Value counts and unique attributes "
   ]
  },
  {
   "cell_type": "code",
   "execution_count": 260,
   "id": "9f8492a4",
   "metadata": {
    "scrolled": true
   },
   "outputs": [
    {
     "data": {
      "text/html": [
       "<div>\n",
       "<style scoped>\n",
       "    .dataframe tbody tr th:only-of-type {\n",
       "        vertical-align: middle;\n",
       "    }\n",
       "\n",
       "    .dataframe tbody tr th {\n",
       "        vertical-align: top;\n",
       "    }\n",
       "\n",
       "    .dataframe thead th {\n",
       "        text-align: right;\n",
       "    }\n",
       "</style>\n",
       "<table border=\"1\" class=\"dataframe\">\n",
       "  <thead>\n",
       "    <tr style=\"text-align: right;\">\n",
       "      <th></th>\n",
       "      <th>show_id</th>\n",
       "      <th>type</th>\n",
       "      <th>title</th>\n",
       "      <th>director</th>\n",
       "      <th>cast</th>\n",
       "      <th>country</th>\n",
       "      <th>date_added</th>\n",
       "      <th>release_year</th>\n",
       "      <th>rating</th>\n",
       "      <th>duration</th>\n",
       "      <th>listed_in</th>\n",
       "      <th>description</th>\n",
       "      <th>duration_time</th>\n",
       "      <th>duration_units</th>\n",
       "    </tr>\n",
       "  </thead>\n",
       "  <tbody>\n",
       "    <tr>\n",
       "      <th>0</th>\n",
       "      <td>s1</td>\n",
       "      <td>Movie</td>\n",
       "      <td>Dick Johnson Is Dead</td>\n",
       "      <td>Kirsten Johnson</td>\n",
       "      <td>NaN</td>\n",
       "      <td>United States</td>\n",
       "      <td>2021-09-25</td>\n",
       "      <td>2020</td>\n",
       "      <td>PG-13</td>\n",
       "      <td>90 min</td>\n",
       "      <td>Documentaries</td>\n",
       "      <td>As her father nears the end of his life, filmm...</td>\n",
       "      <td>90</td>\n",
       "      <td>min</td>\n",
       "    </tr>\n",
       "    <tr>\n",
       "      <th>1</th>\n",
       "      <td>s2</td>\n",
       "      <td>TV Show</td>\n",
       "      <td>Blood &amp; Water</td>\n",
       "      <td>NaN</td>\n",
       "      <td>Ama Qamata, Khosi Ngema, Gail Mabalane, Thaban...</td>\n",
       "      <td>South Africa</td>\n",
       "      <td>2021-09-24</td>\n",
       "      <td>2021</td>\n",
       "      <td>TV-MA</td>\n",
       "      <td>2 Seasons</td>\n",
       "      <td>International TV Shows, TV Dramas, TV Mysteries</td>\n",
       "      <td>After crossing paths at a party, a Cape Town t...</td>\n",
       "      <td>2</td>\n",
       "      <td>Seasons</td>\n",
       "    </tr>\n",
       "    <tr>\n",
       "      <th>2</th>\n",
       "      <td>s3</td>\n",
       "      <td>TV Show</td>\n",
       "      <td>Ganglands</td>\n",
       "      <td>Julien Leclercq</td>\n",
       "      <td>Sami Bouajila, Tracy Gotoas, Samuel Jouy, Nabi...</td>\n",
       "      <td>NaN</td>\n",
       "      <td>2021-09-24</td>\n",
       "      <td>2021</td>\n",
       "      <td>TV-MA</td>\n",
       "      <td>1 Season</td>\n",
       "      <td>Crime TV Shows, International TV Shows, TV Act...</td>\n",
       "      <td>To protect his family from a powerful drug lor...</td>\n",
       "      <td>1</td>\n",
       "      <td>Season</td>\n",
       "    </tr>\n",
       "    <tr>\n",
       "      <th>3</th>\n",
       "      <td>s4</td>\n",
       "      <td>TV Show</td>\n",
       "      <td>Jailbirds New Orleans</td>\n",
       "      <td>NaN</td>\n",
       "      <td>NaN</td>\n",
       "      <td>NaN</td>\n",
       "      <td>2021-09-24</td>\n",
       "      <td>2021</td>\n",
       "      <td>TV-MA</td>\n",
       "      <td>1 Season</td>\n",
       "      <td>Docuseries, Reality TV</td>\n",
       "      <td>Feuds, flirtations and toilet talk go down amo...</td>\n",
       "      <td>1</td>\n",
       "      <td>Season</td>\n",
       "    </tr>\n",
       "    <tr>\n",
       "      <th>4</th>\n",
       "      <td>s5</td>\n",
       "      <td>TV Show</td>\n",
       "      <td>Kota Factory</td>\n",
       "      <td>NaN</td>\n",
       "      <td>Mayur More, Jitendra Kumar, Ranjan Raj, Alam K...</td>\n",
       "      <td>India</td>\n",
       "      <td>2021-09-24</td>\n",
       "      <td>2021</td>\n",
       "      <td>TV-MA</td>\n",
       "      <td>2 Seasons</td>\n",
       "      <td>International TV Shows, Romantic TV Shows, TV ...</td>\n",
       "      <td>In a city of coaching centers known to train I...</td>\n",
       "      <td>2</td>\n",
       "      <td>Seasons</td>\n",
       "    </tr>\n",
       "  </tbody>\n",
       "</table>\n",
       "</div>"
      ],
      "text/plain": [
       "  show_id     type                  title         director  \\\n",
       "0      s1    Movie   Dick Johnson Is Dead  Kirsten Johnson   \n",
       "1      s2  TV Show          Blood & Water              NaN   \n",
       "2      s3  TV Show              Ganglands  Julien Leclercq   \n",
       "3      s4  TV Show  Jailbirds New Orleans              NaN   \n",
       "4      s5  TV Show           Kota Factory              NaN   \n",
       "\n",
       "                                                cast        country  \\\n",
       "0                                                NaN  United States   \n",
       "1  Ama Qamata, Khosi Ngema, Gail Mabalane, Thaban...   South Africa   \n",
       "2  Sami Bouajila, Tracy Gotoas, Samuel Jouy, Nabi...            NaN   \n",
       "3                                                NaN            NaN   \n",
       "4  Mayur More, Jitendra Kumar, Ranjan Raj, Alam K...          India   \n",
       "\n",
       "  date_added  release_year rating   duration  \\\n",
       "0 2021-09-25          2020  PG-13     90 min   \n",
       "1 2021-09-24          2021  TV-MA  2 Seasons   \n",
       "2 2021-09-24          2021  TV-MA   1 Season   \n",
       "3 2021-09-24          2021  TV-MA   1 Season   \n",
       "4 2021-09-24          2021  TV-MA  2 Seasons   \n",
       "\n",
       "                                           listed_in  \\\n",
       "0                                      Documentaries   \n",
       "1    International TV Shows, TV Dramas, TV Mysteries   \n",
       "2  Crime TV Shows, International TV Shows, TV Act...   \n",
       "3                             Docuseries, Reality TV   \n",
       "4  International TV Shows, Romantic TV Shows, TV ...   \n",
       "\n",
       "                                         description duration_time  \\\n",
       "0  As her father nears the end of his life, filmm...            90   \n",
       "1  After crossing paths at a party, a Cape Town t...             2   \n",
       "2  To protect his family from a powerful drug lor...             1   \n",
       "3  Feuds, flirtations and toilet talk go down amo...             1   \n",
       "4  In a city of coaching centers known to train I...             2   \n",
       "\n",
       "  duration_units  \n",
       "0            min  \n",
       "1        Seasons  \n",
       "2         Season  \n",
       "3         Season  \n",
       "4        Seasons  "
      ]
     },
     "execution_count": 260,
     "metadata": {},
     "output_type": "execute_result"
    }
   ],
   "source": [
    "df.head()"
   ]
  },
  {
   "cell_type": "code",
   "execution_count": 261,
   "id": "5bbf7c20",
   "metadata": {},
   "outputs": [
    {
     "data": {
      "text/html": [
       "<div>\n",
       "<style scoped>\n",
       "    .dataframe tbody tr th:only-of-type {\n",
       "        vertical-align: middle;\n",
       "    }\n",
       "\n",
       "    .dataframe tbody tr th {\n",
       "        vertical-align: top;\n",
       "    }\n",
       "\n",
       "    .dataframe thead th {\n",
       "        text-align: right;\n",
       "    }\n",
       "</style>\n",
       "<table border=\"1\" class=\"dataframe\">\n",
       "  <thead>\n",
       "    <tr style=\"text-align: right;\">\n",
       "      <th></th>\n",
       "      <th>title</th>\n",
       "      <th>director</th>\n",
       "      <th>cast</th>\n",
       "      <th>country</th>\n",
       "      <th>listed_in</th>\n",
       "      <th>country_imput</th>\n",
       "    </tr>\n",
       "  </thead>\n",
       "  <tbody>\n",
       "    <tr>\n",
       "      <th>0</th>\n",
       "      <td>Dick Johnson Is Dead</td>\n",
       "      <td>Kirsten Johnson</td>\n",
       "      <td>nan</td>\n",
       "      <td>United States</td>\n",
       "      <td>Documentaries</td>\n",
       "      <td>United States</td>\n",
       "    </tr>\n",
       "    <tr>\n",
       "      <th>1</th>\n",
       "      <td>Blood &amp; Water</td>\n",
       "      <td>nan</td>\n",
       "      <td>Ama Qamata</td>\n",
       "      <td>South Africa</td>\n",
       "      <td>International TV Shows</td>\n",
       "      <td>South Africa</td>\n",
       "    </tr>\n",
       "    <tr>\n",
       "      <th>2</th>\n",
       "      <td>Blood &amp; Water</td>\n",
       "      <td>nan</td>\n",
       "      <td>Ama Qamata</td>\n",
       "      <td>South Africa</td>\n",
       "      <td>TV Dramas</td>\n",
       "      <td>South Africa</td>\n",
       "    </tr>\n",
       "    <tr>\n",
       "      <th>3</th>\n",
       "      <td>Blood &amp; Water</td>\n",
       "      <td>nan</td>\n",
       "      <td>Ama Qamata</td>\n",
       "      <td>South Africa</td>\n",
       "      <td>TV Mysteries</td>\n",
       "      <td>South Africa</td>\n",
       "    </tr>\n",
       "    <tr>\n",
       "      <th>4</th>\n",
       "      <td>Blood &amp; Water</td>\n",
       "      <td>nan</td>\n",
       "      <td>Khosi Ngema</td>\n",
       "      <td>South Africa</td>\n",
       "      <td>International TV Shows</td>\n",
       "      <td>South Africa</td>\n",
       "    </tr>\n",
       "  </tbody>\n",
       "</table>\n",
       "</div>"
      ],
      "text/plain": [
       "                  title         director         cast        country  \\\n",
       "0  Dick Johnson Is Dead  Kirsten Johnson          nan  United States   \n",
       "1         Blood & Water              nan   Ama Qamata   South Africa   \n",
       "2         Blood & Water              nan   Ama Qamata   South Africa   \n",
       "3         Blood & Water              nan   Ama Qamata   South Africa   \n",
       "4         Blood & Water              nan  Khosi Ngema   South Africa   \n",
       "\n",
       "                listed_in  country_imput  \n",
       "0           Documentaries  United States  \n",
       "1  International TV Shows   South Africa  \n",
       "2               TV Dramas   South Africa  \n",
       "3            TV Mysteries   South Africa  \n",
       "4  International TV Shows   South Africa  "
      ]
     },
     "execution_count": 261,
     "metadata": {},
     "output_type": "execute_result"
    }
   ],
   "source": [
    "df_final.head()"
   ]
  },
  {
   "cell_type": "code",
   "execution_count": 262,
   "id": "a5db4ba9",
   "metadata": {},
   "outputs": [],
   "source": [
    "df_final = df_final.merge(df.drop(columns = [ 'director', 'cast', 'country', 'listed_in']),on='title').reset_index(drop=True)"
   ]
  },
  {
   "cell_type": "code",
   "execution_count": 263,
   "id": "d8b6e0d3",
   "metadata": {
    "scrolled": true
   },
   "outputs": [
    {
     "data": {
      "text/html": [
       "<div>\n",
       "<style scoped>\n",
       "    .dataframe tbody tr th:only-of-type {\n",
       "        vertical-align: middle;\n",
       "    }\n",
       "\n",
       "    .dataframe tbody tr th {\n",
       "        vertical-align: top;\n",
       "    }\n",
       "\n",
       "    .dataframe thead th {\n",
       "        text-align: right;\n",
       "    }\n",
       "</style>\n",
       "<table border=\"1\" class=\"dataframe\">\n",
       "  <thead>\n",
       "    <tr style=\"text-align: right;\">\n",
       "      <th></th>\n",
       "      <th>title</th>\n",
       "      <th>director</th>\n",
       "      <th>cast</th>\n",
       "      <th>country</th>\n",
       "      <th>listed_in</th>\n",
       "      <th>country_imput</th>\n",
       "      <th>show_id</th>\n",
       "      <th>type</th>\n",
       "      <th>date_added</th>\n",
       "      <th>release_year</th>\n",
       "      <th>rating</th>\n",
       "      <th>duration</th>\n",
       "      <th>description</th>\n",
       "      <th>duration_time</th>\n",
       "      <th>duration_units</th>\n",
       "    </tr>\n",
       "  </thead>\n",
       "  <tbody>\n",
       "    <tr>\n",
       "      <th>0</th>\n",
       "      <td>Dick Johnson Is Dead</td>\n",
       "      <td>Kirsten Johnson</td>\n",
       "      <td>nan</td>\n",
       "      <td>United States</td>\n",
       "      <td>Documentaries</td>\n",
       "      <td>United States</td>\n",
       "      <td>s1</td>\n",
       "      <td>Movie</td>\n",
       "      <td>2021-09-25</td>\n",
       "      <td>2020</td>\n",
       "      <td>PG-13</td>\n",
       "      <td>90 min</td>\n",
       "      <td>As her father nears the end of his life, filmm...</td>\n",
       "      <td>90</td>\n",
       "      <td>min</td>\n",
       "    </tr>\n",
       "    <tr>\n",
       "      <th>1</th>\n",
       "      <td>Blood &amp; Water</td>\n",
       "      <td>nan</td>\n",
       "      <td>Ama Qamata</td>\n",
       "      <td>South Africa</td>\n",
       "      <td>International TV Shows</td>\n",
       "      <td>South Africa</td>\n",
       "      <td>s2</td>\n",
       "      <td>TV Show</td>\n",
       "      <td>2021-09-24</td>\n",
       "      <td>2021</td>\n",
       "      <td>TV-MA</td>\n",
       "      <td>2 Seasons</td>\n",
       "      <td>After crossing paths at a party, a Cape Town t...</td>\n",
       "      <td>2</td>\n",
       "      <td>Seasons</td>\n",
       "    </tr>\n",
       "    <tr>\n",
       "      <th>2</th>\n",
       "      <td>Blood &amp; Water</td>\n",
       "      <td>nan</td>\n",
       "      <td>Ama Qamata</td>\n",
       "      <td>South Africa</td>\n",
       "      <td>TV Dramas</td>\n",
       "      <td>South Africa</td>\n",
       "      <td>s2</td>\n",
       "      <td>TV Show</td>\n",
       "      <td>2021-09-24</td>\n",
       "      <td>2021</td>\n",
       "      <td>TV-MA</td>\n",
       "      <td>2 Seasons</td>\n",
       "      <td>After crossing paths at a party, a Cape Town t...</td>\n",
       "      <td>2</td>\n",
       "      <td>Seasons</td>\n",
       "    </tr>\n",
       "    <tr>\n",
       "      <th>3</th>\n",
       "      <td>Blood &amp; Water</td>\n",
       "      <td>nan</td>\n",
       "      <td>Ama Qamata</td>\n",
       "      <td>South Africa</td>\n",
       "      <td>TV Mysteries</td>\n",
       "      <td>South Africa</td>\n",
       "      <td>s2</td>\n",
       "      <td>TV Show</td>\n",
       "      <td>2021-09-24</td>\n",
       "      <td>2021</td>\n",
       "      <td>TV-MA</td>\n",
       "      <td>2 Seasons</td>\n",
       "      <td>After crossing paths at a party, a Cape Town t...</td>\n",
       "      <td>2</td>\n",
       "      <td>Seasons</td>\n",
       "    </tr>\n",
       "    <tr>\n",
       "      <th>4</th>\n",
       "      <td>Blood &amp; Water</td>\n",
       "      <td>nan</td>\n",
       "      <td>Khosi Ngema</td>\n",
       "      <td>South Africa</td>\n",
       "      <td>International TV Shows</td>\n",
       "      <td>South Africa</td>\n",
       "      <td>s2</td>\n",
       "      <td>TV Show</td>\n",
       "      <td>2021-09-24</td>\n",
       "      <td>2021</td>\n",
       "      <td>TV-MA</td>\n",
       "      <td>2 Seasons</td>\n",
       "      <td>After crossing paths at a party, a Cape Town t...</td>\n",
       "      <td>2</td>\n",
       "      <td>Seasons</td>\n",
       "    </tr>\n",
       "  </tbody>\n",
       "</table>\n",
       "</div>"
      ],
      "text/plain": [
       "                  title         director         cast        country  \\\n",
       "0  Dick Johnson Is Dead  Kirsten Johnson          nan  United States   \n",
       "1         Blood & Water              nan   Ama Qamata   South Africa   \n",
       "2         Blood & Water              nan   Ama Qamata   South Africa   \n",
       "3         Blood & Water              nan   Ama Qamata   South Africa   \n",
       "4         Blood & Water              nan  Khosi Ngema   South Africa   \n",
       "\n",
       "                listed_in  country_imput show_id     type date_added  \\\n",
       "0           Documentaries  United States      s1    Movie 2021-09-25   \n",
       "1  International TV Shows   South Africa      s2  TV Show 2021-09-24   \n",
       "2               TV Dramas   South Africa      s2  TV Show 2021-09-24   \n",
       "3            TV Mysteries   South Africa      s2  TV Show 2021-09-24   \n",
       "4  International TV Shows   South Africa      s2  TV Show 2021-09-24   \n",
       "\n",
       "   release_year rating   duration  \\\n",
       "0          2020  PG-13     90 min   \n",
       "1          2021  TV-MA  2 Seasons   \n",
       "2          2021  TV-MA  2 Seasons   \n",
       "3          2021  TV-MA  2 Seasons   \n",
       "4          2021  TV-MA  2 Seasons   \n",
       "\n",
       "                                         description duration_time  \\\n",
       "0  As her father nears the end of his life, filmm...            90   \n",
       "1  After crossing paths at a party, a Cape Town t...             2   \n",
       "2  After crossing paths at a party, a Cape Town t...             2   \n",
       "3  After crossing paths at a party, a Cape Town t...             2   \n",
       "4  After crossing paths at a party, a Cape Town t...             2   \n",
       "\n",
       "  duration_units  \n",
       "0            min  \n",
       "1        Seasons  \n",
       "2        Seasons  \n",
       "3        Seasons  \n",
       "4        Seasons  "
      ]
     },
     "execution_count": 263,
     "metadata": {},
     "output_type": "execute_result"
    }
   ],
   "source": [
    "df_final.head()"
   ]
  },
  {
   "cell_type": "code",
   "execution_count": 264,
   "id": "cf203e9c",
   "metadata": {},
   "outputs": [
    {
     "data": {
      "text/plain": [
       "array(['Movie', 'TV Show'], dtype=object)"
      ]
     },
     "execution_count": 264,
     "metadata": {},
     "output_type": "execute_result"
    }
   ],
   "source": [
    "df_final['type'].unique()"
   ]
  },
  {
   "cell_type": "code",
   "execution_count": 265,
   "id": "b6567460",
   "metadata": {},
   "outputs": [
    {
     "data": {
      "text/plain": [
       "type\n",
       "Movie      6131\n",
       "TV Show    2676\n",
       "Name: title, dtype: int64"
      ]
     },
     "execution_count": 265,
     "metadata": {},
     "output_type": "execute_result"
    }
   ],
   "source": [
    "df_final.groupby(['type'])['title'].nunique()"
   ]
  },
  {
   "cell_type": "code",
   "execution_count": null,
   "id": "2af06d98",
   "metadata": {},
   "outputs": [],
   "source": []
  },
  {
   "cell_type": "code",
   "execution_count": 266,
   "id": "34ee1009",
   "metadata": {},
   "outputs": [
    {
     "data": {
      "text/plain": [
       "array(['United States', 'South Africa', 'France', 'nan', 'India',\n",
       "       'Argentina', 'Ghana', 'Burkina Faso', 'United Kingdom', 'Germany',\n",
       "       'Ethiopia', 'Thailand', 'Czech Republic', 'Brazil', 'Mexico',\n",
       "       'Spain', 'Turkey', 'Australia', 'South Korea', 'Belgium',\n",
       "       'Finland', 'China', 'Canada', 'Japan', 'Nigeria', 'Sweden',\n",
       "       'Singapore', 'Philippines', 'Taiwan', 'Italy', 'Romania',\n",
       "       'Venezuela', 'Angola', 'Mauritius', 'Hong Kong', 'Russia', 'Chile',\n",
       "       '', 'Colombia', 'Ireland', 'Poland', 'Norway', 'Egypt', 'Nepal',\n",
       "       'New Zealand', 'Greece', 'Jordan', 'Switzerland', 'Israel',\n",
       "       'Bulgaria', 'Algeria', 'Denmark', 'Saudi Arabia', 'Indonesia',\n",
       "       'Portugal', 'Kuwait', 'Cameroon', 'Netherlands', 'Malaysia',\n",
       "       'Vietnam', 'Hungary', 'Lebanon', 'Austria', 'Syria', 'Iceland',\n",
       "       'United Arab Emirates', 'Qatar', 'Palestine', 'Uruguay', 'Cuba',\n",
       "       'United Kingdom,', 'Kenya', 'Luxembourg', 'Cambodia', 'Bangladesh',\n",
       "       'Cayman Islands', 'Senegal', 'Serbia', 'Malta', 'Namibia', 'Peru',\n",
       "       'Mozambique', 'Cambodia,', 'Belarus', 'Zimbabwe', 'Puerto Rico',\n",
       "       'Pakistan', 'Cyprus', 'Guatemala', 'Iraq', 'Malawi', 'Paraguay',\n",
       "       'Croatia', 'Iran', 'West Germany', 'United States,', 'Albania',\n",
       "       'Georgia', 'Soviet Union', 'Morocco', 'Slovakia', 'Ukraine',\n",
       "       'Bermuda', 'Ecuador', 'Armenia', 'Mongolia', 'Bahamas',\n",
       "       'Sri Lanka', 'Latvia', 'Liechtenstein', 'Nicaragua', 'Poland,',\n",
       "       'Slovenia', 'Dominican Republic', 'Samoa', 'Azerbaijan',\n",
       "       'Botswana', 'Vatican City', 'Jamaica', 'Kazakhstan', 'Lithuania',\n",
       "       'Afghanistan', 'Somalia', 'Sudan', 'Panama', 'Uganda',\n",
       "       'East Germany', 'Montenegro'], dtype=object)"
      ]
     },
     "execution_count": 266,
     "metadata": {},
     "output_type": "execute_result"
    }
   ],
   "source": [
    "df_final['country_imput'].unique()"
   ]
  },
  {
   "cell_type": "code",
   "execution_count": 267,
   "id": "f28151e5",
   "metadata": {},
   "outputs": [
    {
     "data": {
      "text/html": [
       "<div>\n",
       "<style scoped>\n",
       "    .dataframe tbody tr th:only-of-type {\n",
       "        vertical-align: middle;\n",
       "    }\n",
       "\n",
       "    .dataframe tbody tr th {\n",
       "        vertical-align: top;\n",
       "    }\n",
       "\n",
       "    .dataframe thead th {\n",
       "        text-align: right;\n",
       "    }\n",
       "</style>\n",
       "<table border=\"1\" class=\"dataframe\">\n",
       "  <thead>\n",
       "    <tr style=\"text-align: right;\">\n",
       "      <th></th>\n",
       "      <th>country_imput</th>\n",
       "      <th>title</th>\n",
       "    </tr>\n",
       "  </thead>\n",
       "  <tbody>\n",
       "    <tr>\n",
       "      <th>119</th>\n",
       "      <td>United States</td>\n",
       "      <td>3854</td>\n",
       "    </tr>\n",
       "    <tr>\n",
       "      <th>47</th>\n",
       "      <td>India</td>\n",
       "      <td>1157</td>\n",
       "    </tr>\n",
       "    <tr>\n",
       "      <th>117</th>\n",
       "      <td>United Kingdom</td>\n",
       "      <td>843</td>\n",
       "    </tr>\n",
       "    <tr>\n",
       "      <th>127</th>\n",
       "      <td>nan</td>\n",
       "      <td>581</td>\n",
       "    </tr>\n",
       "    <tr>\n",
       "      <th>22</th>\n",
       "      <td>Canada</td>\n",
       "      <td>488</td>\n",
       "    </tr>\n",
       "    <tr>\n",
       "      <th>...</th>\n",
       "      <td>...</td>\n",
       "      <td>...</td>\n",
       "    </tr>\n",
       "    <tr>\n",
       "      <th>33</th>\n",
       "      <td>East Germany</td>\n",
       "      <td>1</td>\n",
       "    </tr>\n",
       "    <tr>\n",
       "      <th>83</th>\n",
       "      <td>Panama</td>\n",
       "      <td>1</td>\n",
       "    </tr>\n",
       "    <tr>\n",
       "      <th>15</th>\n",
       "      <td>Botswana</td>\n",
       "      <td>1</td>\n",
       "    </tr>\n",
       "    <tr>\n",
       "      <th>106</th>\n",
       "      <td>Sri Lanka</td>\n",
       "      <td>1</td>\n",
       "    </tr>\n",
       "    <tr>\n",
       "      <th>78</th>\n",
       "      <td>Nicaragua</td>\n",
       "      <td>1</td>\n",
       "    </tr>\n",
       "  </tbody>\n",
       "</table>\n",
       "<p>128 rows × 2 columns</p>\n",
       "</div>"
      ],
      "text/plain": [
       "      country_imput  title\n",
       "119   United States   3854\n",
       "47            India   1157\n",
       "117  United Kingdom    843\n",
       "127             nan    581\n",
       "22           Canada    488\n",
       "..              ...    ...\n",
       "33     East Germany      1\n",
       "83           Panama      1\n",
       "15         Botswana      1\n",
       "106       Sri Lanka      1\n",
       "78        Nicaragua      1\n",
       "\n",
       "[128 rows x 2 columns]"
      ]
     },
     "execution_count": 267,
     "metadata": {},
     "output_type": "execute_result"
    }
   ],
   "source": [
    "df_final.groupby(['country_imput'])['title'].nunique().reset_index().sort_values('title',ascending=False)"
   ]
  },
  {
   "cell_type": "code",
   "execution_count": 268,
   "id": "642ccb3e",
   "metadata": {},
   "outputs": [
    {
     "data": {
      "text/plain": [
       "array(['Kirsten Johnson', 'nan', 'Julien Leclercq', ...,\n",
       "       'Majid Al Ansari', 'Peter Hewitt', 'Mozez Singh'], dtype=object)"
      ]
     },
     "execution_count": 268,
     "metadata": {},
     "output_type": "execute_result"
    }
   ],
   "source": [
    "df_final['director'].unique()"
   ]
  },
  {
   "cell_type": "code",
   "execution_count": 269,
   "id": "1a0f2d3e",
   "metadata": {},
   "outputs": [
    {
     "data": {
      "text/html": [
       "<div>\n",
       "<style scoped>\n",
       "    .dataframe tbody tr th:only-of-type {\n",
       "        vertical-align: middle;\n",
       "    }\n",
       "\n",
       "    .dataframe tbody tr th {\n",
       "        vertical-align: top;\n",
       "    }\n",
       "\n",
       "    .dataframe thead th {\n",
       "        text-align: right;\n",
       "    }\n",
       "</style>\n",
       "<table border=\"1\" class=\"dataframe\">\n",
       "  <thead>\n",
       "    <tr style=\"text-align: right;\">\n",
       "      <th></th>\n",
       "      <th>director</th>\n",
       "      <th>title</th>\n",
       "    </tr>\n",
       "  </thead>\n",
       "  <tbody>\n",
       "    <tr>\n",
       "      <th>4978</th>\n",
       "      <td>nan</td>\n",
       "      <td>2634</td>\n",
       "    </tr>\n",
       "    <tr>\n",
       "      <th>3749</th>\n",
       "      <td>Rajiv Chilaka</td>\n",
       "      <td>22</td>\n",
       "    </tr>\n",
       "    <tr>\n",
       "      <th>1906</th>\n",
       "      <td>Jan Suter</td>\n",
       "      <td>21</td>\n",
       "    </tr>\n",
       "    <tr>\n",
       "      <th>3800</th>\n",
       "      <td>Raúl Campos</td>\n",
       "      <td>19</td>\n",
       "    </tr>\n",
       "    <tr>\n",
       "      <th>4457</th>\n",
       "      <td>Suhas Kadav</td>\n",
       "      <td>16</td>\n",
       "    </tr>\n",
       "    <tr>\n",
       "      <th>...</th>\n",
       "      <td>...</td>\n",
       "      <td>...</td>\n",
       "    </tr>\n",
       "    <tr>\n",
       "      <th>635</th>\n",
       "      <td>Brandon Camp</td>\n",
       "      <td>1</td>\n",
       "    </tr>\n",
       "    <tr>\n",
       "      <th>2295</th>\n",
       "      <td>Juan Antin</td>\n",
       "      <td>1</td>\n",
       "    </tr>\n",
       "    <tr>\n",
       "      <th>2296</th>\n",
       "      <td>Juan Antonio de la Riva</td>\n",
       "      <td>1</td>\n",
       "    </tr>\n",
       "    <tr>\n",
       "      <th>2297</th>\n",
       "      <td>Juan Camilo Pinzon</td>\n",
       "      <td>1</td>\n",
       "    </tr>\n",
       "    <tr>\n",
       "      <th>2957</th>\n",
       "      <td>María Jose Cuevas</td>\n",
       "      <td>1</td>\n",
       "    </tr>\n",
       "  </tbody>\n",
       "</table>\n",
       "<p>4994 rows × 2 columns</p>\n",
       "</div>"
      ],
      "text/plain": [
       "                     director  title\n",
       "4978                      nan   2634\n",
       "3749            Rajiv Chilaka     22\n",
       "1906                Jan Suter     21\n",
       "3800              Raúl Campos     19\n",
       "4457              Suhas Kadav     16\n",
       "...                       ...    ...\n",
       "635              Brandon Camp      1\n",
       "2295               Juan Antin      1\n",
       "2296  Juan Antonio de la Riva      1\n",
       "2297       Juan Camilo Pinzon      1\n",
       "2957        María Jose Cuevas      1\n",
       "\n",
       "[4994 rows x 2 columns]"
      ]
     },
     "execution_count": 269,
     "metadata": {},
     "output_type": "execute_result"
    }
   ],
   "source": [
    "df_final.groupby(['director'])['title'].nunique().reset_index().sort_values('title',ascending=False)"
   ]
  },
  {
   "cell_type": "code",
   "execution_count": 270,
   "id": "21deb436",
   "metadata": {},
   "outputs": [
    {
     "data": {
      "text/plain": [
       "array(['nan', 'Ama Qamata', 'Khosi Ngema', ..., 'Malkeet Rauni',\n",
       "       'Anita Shabdish', 'Chittaranjan Tripathy'], dtype=object)"
      ]
     },
     "execution_count": 270,
     "metadata": {},
     "output_type": "execute_result"
    }
   ],
   "source": [
    "df_final['cast'].unique()"
   ]
  },
  {
   "cell_type": "code",
   "execution_count": 271,
   "id": "b7370cca",
   "metadata": {},
   "outputs": [
    {
     "data": {
      "text/html": [
       "<div>\n",
       "<style scoped>\n",
       "    .dataframe tbody tr th:only-of-type {\n",
       "        vertical-align: middle;\n",
       "    }\n",
       "\n",
       "    .dataframe tbody tr th {\n",
       "        vertical-align: top;\n",
       "    }\n",
       "\n",
       "    .dataframe thead th {\n",
       "        text-align: right;\n",
       "    }\n",
       "</style>\n",
       "<table border=\"1\" class=\"dataframe\">\n",
       "  <thead>\n",
       "    <tr style=\"text-align: right;\">\n",
       "      <th></th>\n",
       "      <th>cast</th>\n",
       "      <th>title</th>\n",
       "    </tr>\n",
       "  </thead>\n",
       "  <tbody>\n",
       "    <tr>\n",
       "      <th>36316</th>\n",
       "      <td>nan</td>\n",
       "      <td>825</td>\n",
       "    </tr>\n",
       "    <tr>\n",
       "      <th>2833</th>\n",
       "      <td>Anupam Kher</td>\n",
       "      <td>43</td>\n",
       "    </tr>\n",
       "    <tr>\n",
       "      <th>30489</th>\n",
       "      <td>Shah Rukh Khan</td>\n",
       "      <td>35</td>\n",
       "    </tr>\n",
       "    <tr>\n",
       "      <th>16697</th>\n",
       "      <td>Julie Tejwani</td>\n",
       "      <td>33</td>\n",
       "    </tr>\n",
       "    <tr>\n",
       "      <th>24215</th>\n",
       "      <td>Naseeruddin Shah</td>\n",
       "      <td>32</td>\n",
       "    </tr>\n",
       "    <tr>\n",
       "      <th>...</th>\n",
       "      <td>...</td>\n",
       "      <td>...</td>\n",
       "    </tr>\n",
       "    <tr>\n",
       "      <th>14221</th>\n",
       "      <td>Jamie Lee</td>\n",
       "      <td>1</td>\n",
       "    </tr>\n",
       "    <tr>\n",
       "      <th>14219</th>\n",
       "      <td>Jamie Kenna</td>\n",
       "      <td>1</td>\n",
       "    </tr>\n",
       "    <tr>\n",
       "      <th>14218</th>\n",
       "      <td>Jamie Kaler</td>\n",
       "      <td>1</td>\n",
       "    </tr>\n",
       "    <tr>\n",
       "      <th>14217</th>\n",
       "      <td>Jamie Johnston</td>\n",
       "      <td>1</td>\n",
       "    </tr>\n",
       "    <tr>\n",
       "      <th>36439</th>\n",
       "      <td>Ṣọpẹ́ Dìrísù</td>\n",
       "      <td>1</td>\n",
       "    </tr>\n",
       "  </tbody>\n",
       "</table>\n",
       "<p>36440 rows × 2 columns</p>\n",
       "</div>"
      ],
      "text/plain": [
       "                   cast  title\n",
       "36316               nan    825\n",
       "2833        Anupam Kher     43\n",
       "30489    Shah Rukh Khan     35\n",
       "16697     Julie Tejwani     33\n",
       "24215  Naseeruddin Shah     32\n",
       "...                 ...    ...\n",
       "14221         Jamie Lee      1\n",
       "14219       Jamie Kenna      1\n",
       "14218       Jamie Kaler      1\n",
       "14217    Jamie Johnston      1\n",
       "36439      Ṣọpẹ́ Dìrísù      1\n",
       "\n",
       "[36440 rows x 2 columns]"
      ]
     },
     "execution_count": 271,
     "metadata": {},
     "output_type": "execute_result"
    }
   ],
   "source": [
    "df_final.groupby(['cast'])['title'].nunique().reset_index().sort_values('title',ascending=False)"
   ]
  },
  {
   "cell_type": "code",
   "execution_count": 272,
   "id": "1a9a4261",
   "metadata": {},
   "outputs": [
    {
     "data": {
      "text/plain": [
       "array(['PG-13', 'TV-MA', 'PG', 'TV-14', 'TV-PG', 'TV-Y', 'TV-Y7', 'R',\n",
       "       'TV-G', 'G', 'NC-17', '74 min', '84 min', '66 min', 'NR', nan,\n",
       "       'TV-Y7-FV', 'UR'], dtype=object)"
      ]
     },
     "execution_count": 272,
     "metadata": {},
     "output_type": "execute_result"
    }
   ],
   "source": [
    "df_final['rating'].unique()"
   ]
  },
  {
   "cell_type": "code",
   "execution_count": 273,
   "id": "0ac0eb1f",
   "metadata": {},
   "outputs": [
    {
     "data": {
      "text/html": [
       "<div>\n",
       "<style scoped>\n",
       "    .dataframe tbody tr th:only-of-type {\n",
       "        vertical-align: middle;\n",
       "    }\n",
       "\n",
       "    .dataframe tbody tr th {\n",
       "        vertical-align: top;\n",
       "    }\n",
       "\n",
       "    .dataframe thead th {\n",
       "        text-align: right;\n",
       "    }\n",
       "</style>\n",
       "<table border=\"1\" class=\"dataframe\">\n",
       "  <thead>\n",
       "    <tr style=\"text-align: right;\">\n",
       "      <th></th>\n",
       "      <th>rating</th>\n",
       "      <th>title</th>\n",
       "    </tr>\n",
       "  </thead>\n",
       "  <tbody>\n",
       "    <tr>\n",
       "      <th>11</th>\n",
       "      <td>TV-MA</td>\n",
       "      <td>3207</td>\n",
       "    </tr>\n",
       "    <tr>\n",
       "      <th>9</th>\n",
       "      <td>TV-14</td>\n",
       "      <td>2160</td>\n",
       "    </tr>\n",
       "    <tr>\n",
       "      <th>12</th>\n",
       "      <td>TV-PG</td>\n",
       "      <td>863</td>\n",
       "    </tr>\n",
       "    <tr>\n",
       "      <th>8</th>\n",
       "      <td>R</td>\n",
       "      <td>799</td>\n",
       "    </tr>\n",
       "    <tr>\n",
       "      <th>7</th>\n",
       "      <td>PG-13</td>\n",
       "      <td>490</td>\n",
       "    </tr>\n",
       "    <tr>\n",
       "      <th>14</th>\n",
       "      <td>TV-Y7</td>\n",
       "      <td>334</td>\n",
       "    </tr>\n",
       "    <tr>\n",
       "      <th>13</th>\n",
       "      <td>TV-Y</td>\n",
       "      <td>307</td>\n",
       "    </tr>\n",
       "    <tr>\n",
       "      <th>6</th>\n",
       "      <td>PG</td>\n",
       "      <td>287</td>\n",
       "    </tr>\n",
       "    <tr>\n",
       "      <th>10</th>\n",
       "      <td>TV-G</td>\n",
       "      <td>220</td>\n",
       "    </tr>\n",
       "    <tr>\n",
       "      <th>5</th>\n",
       "      <td>NR</td>\n",
       "      <td>80</td>\n",
       "    </tr>\n",
       "    <tr>\n",
       "      <th>3</th>\n",
       "      <td>G</td>\n",
       "      <td>41</td>\n",
       "    </tr>\n",
       "    <tr>\n",
       "      <th>15</th>\n",
       "      <td>TV-Y7-FV</td>\n",
       "      <td>6</td>\n",
       "    </tr>\n",
       "    <tr>\n",
       "      <th>16</th>\n",
       "      <td>UR</td>\n",
       "      <td>3</td>\n",
       "    </tr>\n",
       "    <tr>\n",
       "      <th>4</th>\n",
       "      <td>NC-17</td>\n",
       "      <td>3</td>\n",
       "    </tr>\n",
       "    <tr>\n",
       "      <th>1</th>\n",
       "      <td>74 min</td>\n",
       "      <td>1</td>\n",
       "    </tr>\n",
       "    <tr>\n",
       "      <th>2</th>\n",
       "      <td>84 min</td>\n",
       "      <td>1</td>\n",
       "    </tr>\n",
       "    <tr>\n",
       "      <th>0</th>\n",
       "      <td>66 min</td>\n",
       "      <td>1</td>\n",
       "    </tr>\n",
       "  </tbody>\n",
       "</table>\n",
       "</div>"
      ],
      "text/plain": [
       "      rating  title\n",
       "11     TV-MA   3207\n",
       "9      TV-14   2160\n",
       "12     TV-PG    863\n",
       "8          R    799\n",
       "7      PG-13    490\n",
       "14     TV-Y7    334\n",
       "13      TV-Y    307\n",
       "6         PG    287\n",
       "10      TV-G    220\n",
       "5         NR     80\n",
       "3          G     41\n",
       "15  TV-Y7-FV      6\n",
       "16        UR      3\n",
       "4      NC-17      3\n",
       "1     74 min      1\n",
       "2     84 min      1\n",
       "0     66 min      1"
      ]
     },
     "execution_count": 273,
     "metadata": {},
     "output_type": "execute_result"
    }
   ],
   "source": [
    "df_final.groupby(['rating'])['title'].nunique().reset_index().sort_values('title',ascending=False)"
   ]
  },
  {
   "cell_type": "code",
   "execution_count": null,
   "id": "e2d67260",
   "metadata": {},
   "outputs": [],
   "source": []
  },
  {
   "cell_type": "code",
   "execution_count": null,
   "id": "679b49f8",
   "metadata": {},
   "outputs": [],
   "source": []
  },
  {
   "cell_type": "markdown",
   "id": "59a39771",
   "metadata": {},
   "source": [
    "### 4. Visual Analysis - Univariate, Bivariate after pre-processing of the data\n",
    "\n",
    "Note: Pre-processing involves unnesting of the data in columns like Actor, Director, Country\n",
    "\n",
    "4.1 For continuous variable(s): Distplot, countplot, histogram for univariate analysis\n",
    "\n",
    "4.2 For categorical variable(s): Boxplot\n",
    "\n",
    "4.3 For correlation: Heatmaps, Pairplots"
   ]
  },
  {
   "cell_type": "markdown",
   "id": "76319670",
   "metadata": {},
   "source": [
    "### 6. Insights based on Non-Graphical and Visual Analysis (10 Points)\n",
    "\n",
    "6.1 Comments on the range of attributes\n",
    "\n",
    "6.2 Comments on the distribution of the variables and relationship between them\n",
    "\n",
    "6.3 Comments for each univariate and bivariate plot"
   ]
  },
  {
   "cell_type": "code",
   "execution_count": 274,
   "id": "dbe07916",
   "metadata": {},
   "outputs": [],
   "source": [
    "df_dur_plot = df.loc[df['type']=='Movie']"
   ]
  },
  {
   "cell_type": "code",
   "execution_count": 275,
   "id": "5ddfbf1e",
   "metadata": {
    "scrolled": true
   },
   "outputs": [
    {
     "data": {
      "text/plain": [
       "<AxesSubplot:xlabel='duration_time', ylabel='Count'>"
      ]
     },
     "execution_count": 275,
     "metadata": {},
     "output_type": "execute_result"
    },
    {
     "data": {
      "image/png": "[encoded data removed]",
      "text/plain": [
       "<Figure size 432x288 with 1 Axes>"
      ]
     },
     "metadata": {
      "needs_background": "light"
     },
     "output_type": "display_data"
    }
   ],
   "source": [
    "sns.histplot(x=df_dur_plot['duration_time'].apply(int),bins=20,kde=True)"
   ]
  },
  {
   "cell_type": "markdown",
   "id": "ea683c4a",
   "metadata": {},
   "source": [
    "### Indicates average duration of movies is around 100 minutes"
   ]
  },
  {
   "cell_type": "code",
   "execution_count": null,
   "id": "071ea4a6",
   "metadata": {},
   "outputs": [],
   "source": []
  },
  {
   "cell_type": "code",
   "execution_count": null,
   "id": "63fa2f4b",
   "metadata": {},
   "outputs": [],
   "source": []
  },
  {
   "cell_type": "code",
   "execution_count": 276,
   "id": "2cfd935d",
   "metadata": {},
   "outputs": [
    {
     "data": {
      "text/plain": [
       "<AxesSubplot:xlabel='duration_time', ylabel='count'>"
      ]
     },
     "execution_count": 276,
     "metadata": {},
     "output_type": "execute_result"
    },
    {
     "data": {
      "image/png": "[encoded data removed]",
      "text/plain": [
       "<Figure size 864x432 with 1 Axes>"
      ]
     },
     "metadata": {
      "needs_background": "light"
     },
     "output_type": "display_data"
    }
   ],
   "source": [
    "plt.figure(figsize=(12,6))\n",
    "sns.countplot(x=df.loc[df['type']=='TV Show','duration_time'].apply(int))"
   ]
  },
  {
   "cell_type": "markdown",
   "id": "756dabab",
   "metadata": {},
   "source": [
    "### Most of the TV shows have 1 season, only few of them went to decent  4-5 seasons\n",
    "#### Dropping the show with 1 or 2 seasons might result in loss in profit due to the money spent in promoting the series in the initial seasons"
   ]
  },
  {
   "cell_type": "code",
   "execution_count": null,
   "id": "7ad63c55",
   "metadata": {},
   "outputs": [],
   "source": []
  },
  {
   "cell_type": "code",
   "execution_count": 277,
   "id": "543c353b",
   "metadata": {},
   "outputs": [],
   "source": [
    "df['year_added'] = df['date_added'].dt.year"
   ]
  },
  {
   "cell_type": "code",
   "execution_count": 278,
   "id": "e62df7e4",
   "metadata": {
    "scrolled": true
   },
   "outputs": [],
   "source": [
    "eachyr_df = df.groupby(['type','year_added'])['show_id'].count().reset_index()"
   ]
  },
  {
   "cell_type": "code",
   "execution_count": 279,
   "id": "5dfb09e6",
   "metadata": {
    "scrolled": true
   },
   "outputs": [
    {
     "data": {
      "text/plain": [
       "(2012.0, 2021.9)"
      ]
     },
     "execution_count": 279,
     "metadata": {},
     "output_type": "execute_result"
    },
    {
     "data": {
      "image/png": "[encoded data removed]",
      "text/plain": [
       "<Figure size 864x432 with 1 Axes>"
      ]
     },
     "metadata": {
      "needs_background": "light"
     },
     "output_type": "display_data"
    }
   ],
   "source": [
    "plt.figure(figsize=(12,6))\n",
    "sns.lineplot(data=eachyr_df,x='year_added',y='show_id',hue='type')\n",
    "plt.xlim([2012, None])"
   ]
  },
  {
   "cell_type": "markdown",
   "id": "04abc582",
   "metadata": {},
   "source": [
    "### TV shows are catching up recently along ith the movies and most recent 2021 even with the fall of movies, there is not much fall in TV shows, this shows that TV shows are gaining popularity"
   ]
  },
  {
   "cell_type": "code",
   "execution_count": null,
   "id": "a10e64d0",
   "metadata": {},
   "outputs": [],
   "source": []
  },
  {
   "cell_type": "code",
   "execution_count": 280,
   "id": "d52ef1ba",
   "metadata": {},
   "outputs": [],
   "source": [
    "df_t = df_final.groupby(['director'])['title'].nunique().reset_index().sort_values('title',ascending=False)\n",
    "directors10 = df_t.loc[df_t['title']>=10,'director'].tolist()"
   ]
  },
  {
   "cell_type": "code",
   "execution_count": 281,
   "id": "ca657cda",
   "metadata": {
    "scrolled": true
   },
   "outputs": [],
   "source": [
    "directors10.remove('nan')"
   ]
  },
  {
   "cell_type": "code",
   "execution_count": 283,
   "id": "b4297e2a",
   "metadata": {},
   "outputs": [
    {
     "data": {
      "text/plain": [
       "['Rajiv Chilaka',\n",
       " 'Jan Suter',\n",
       " 'Raúl Campos',\n",
       " 'Suhas Kadav',\n",
       " 'Marcus Raboy',\n",
       " 'Jay Karas',\n",
       " 'Cathy Garcia-Molina',\n",
       " 'Martin Scorsese',\n",
       " 'Youssef Chahine',\n",
       " 'Jay Chapman',\n",
       " 'Steven Spielberg',\n",
       " 'Don Michael Paul']"
      ]
     },
     "execution_count": 283,
     "metadata": {},
     "output_type": "execute_result"
    }
   ],
   "source": [
    "directors10"
   ]
  },
  {
   "cell_type": "code",
   "execution_count": 340,
   "id": "5823bc3d",
   "metadata": {
    "scrolled": true
   },
   "outputs": [],
   "source": [
    "df_dir_type = df_final.loc[df_final['director'].isin(directors10),['director','type','title','duration_time']].drop_duplicates()"
   ]
  },
  {
   "cell_type": "code",
   "execution_count": 346,
   "id": "d0229a38",
   "metadata": {},
   "outputs": [
    {
     "data": {
      "text/plain": [
       "['Rajiv Chilaka',\n",
       " 'Jan Suter',\n",
       " 'Raúl Campos',\n",
       " 'Marcus Raboy',\n",
       " 'Suhas Kadav',\n",
       " 'Jay Karas',\n",
       " 'Cathy Garcia-Molina',\n",
       " 'Jay Chapman',\n",
       " 'Martin Scorsese',\n",
       " 'Youssef Chahine',\n",
       " 'Steven Spielberg',\n",
       " 'Don Michael Paul']"
      ]
     },
     "execution_count": 346,
     "metadata": {},
     "output_type": "execute_result"
    }
   ],
   "source": [
    "df_dir_type.groupby(['director'])['title'].count().reset_index().sort_values('title',ascending=False).director.tolist()"
   ]
  },
  {
   "cell_type": "code",
   "execution_count": 347,
   "id": "ac9b53d9",
   "metadata": {},
   "outputs": [
    {
     "data": {
      "text/plain": [
       "<AxesSubplot:xlabel='director', ylabel='count'>"
      ]
     },
     "execution_count": 347,
     "metadata": {},
     "output_type": "execute_result"
    },
    {
     "data": {
      "image/png": "[encoded data removed]",
      "text/plain": [
       "<Figure size 1440x432 with 1 Axes>"
      ]
     },
     "metadata": {
      "needs_background": "light"
     },
     "output_type": "display_data"
    }
   ],
   "source": [
    "plt.figure(figsize=(20,6))\n",
    "sns.countplot(data=df_dir_type,x='director',hue='type',order=directors10)"
   ]
  },
  {
   "cell_type": "code",
   "execution_count": 348,
   "id": "45e3de87",
   "metadata": {},
   "outputs": [
    {
     "data": {
      "text/plain": [
       "<AxesSubplot:xlabel='director', ylabel='duration_time'>"
      ]
     },
     "execution_count": 348,
     "metadata": {},
     "output_type": "execute_result"
    },
    {
     "data": {
      "image/png": "[encoded data removed]",
      "text/plain": [
       "<Figure size 1440x432 with 1 Axes>"
      ]
     },
     "metadata": {
      "needs_background": "light"
     },
     "output_type": "display_data"
    }
   ],
   "source": [
    "plt.figure(figsize=(20,6))\n",
    "sns.barplot(data=df_dir_type,\n",
    "x='director',y='duration_time',estimator=np.mean,hue='type',order=directors10)"
   ]
  },
  {
   "cell_type": "markdown",
   "id": "af4e3502",
   "metadata": {},
   "source": [
    "### from the above 2 plots , we can infer that directors who make frequent movies, tends to have lesser duration of movies"
   ]
  },
  {
   "cell_type": "code",
   "execution_count": null,
   "id": "d7b75f6a",
   "metadata": {},
   "outputs": [],
   "source": []
  },
  {
   "cell_type": "code",
   "execution_count": null,
   "id": "87d4d5e0",
   "metadata": {},
   "outputs": [],
   "source": []
  },
  {
   "cell_type": "code",
   "execution_count": 360,
   "id": "5b2d7593",
   "metadata": {},
   "outputs": [
    {
     "data": {
      "text/plain": [
       "False    6173\n",
       "True     2634\n",
       "Name: director, dtype: int64"
      ]
     },
     "execution_count": 360,
     "metadata": {},
     "output_type": "execute_result"
    }
   ],
   "source": [
    "df['director'].isna().value_counts()"
   ]
  },
  {
   "cell_type": "code",
   "execution_count": 361,
   "id": "f8923f51",
   "metadata": {},
   "outputs": [
    {
     "data": {
      "text/plain": [
       "True     2446\n",
       "False     230\n",
       "Name: director, dtype: int64"
      ]
     },
     "execution_count": 361,
     "metadata": {},
     "output_type": "execute_result"
    }
   ],
   "source": [
    "df[df['type']=='TV Show']['director'].isna().value_counts()"
   ]
  },
  {
   "cell_type": "markdown",
   "id": "e7e7eae2",
   "metadata": {},
   "source": [
    "#### In the missing director column values 90%of the missing values are from TV Shows, so hence we are not replacing them, just leaving as nan"
   ]
  },
  {
   "cell_type": "code",
   "execution_count": null,
   "id": "92a1aa51",
   "metadata": {},
   "outputs": [],
   "source": []
  },
  {
   "cell_type": "code",
   "execution_count": 363,
   "id": "96ae8cbb",
   "metadata": {},
   "outputs": [],
   "source": [
    "# most popular actor"
   ]
  },
  {
   "cell_type": "code",
   "execution_count": 366,
   "id": "2efe0238",
   "metadata": {
    "scrolled": true
   },
   "outputs": [],
   "source": [
    "df_pop = df_final.loc[df_final['cast']!='nan',['cast','country','title']].drop_duplicates()"
   ]
  },
  {
   "cell_type": "code",
   "execution_count": 388,
   "id": "b7e27d82",
   "metadata": {},
   "outputs": [
    {
     "data": {
      "text/html": [
       "<div>\n",
       "<style scoped>\n",
       "    .dataframe tbody tr th:only-of-type {\n",
       "        vertical-align: middle;\n",
       "    }\n",
       "\n",
       "    .dataframe tbody tr th {\n",
       "        vertical-align: top;\n",
       "    }\n",
       "\n",
       "    .dataframe thead th {\n",
       "        text-align: right;\n",
       "    }\n",
       "</style>\n",
       "<table border=\"1\" class=\"dataframe\">\n",
       "  <thead>\n",
       "    <tr style=\"text-align: right;\">\n",
       "      <th></th>\n",
       "      <th>country</th>\n",
       "      <th>title</th>\n",
       "    </tr>\n",
       "  </thead>\n",
       "  <tbody>\n",
       "    <tr>\n",
       "      <th>112</th>\n",
       "      <td>United States</td>\n",
       "      <td>3283</td>\n",
       "    </tr>\n",
       "    <tr>\n",
       "      <th>45</th>\n",
       "      <td>India</td>\n",
       "      <td>1007</td>\n",
       "    </tr>\n",
       "    <tr>\n",
       "      <th>110</th>\n",
       "      <td>United Kingdom</td>\n",
       "      <td>708</td>\n",
       "    </tr>\n",
       "    <tr>\n",
       "      <th>119</th>\n",
       "      <td>nan</td>\n",
       "      <td>677</td>\n",
       "    </tr>\n",
       "    <tr>\n",
       "      <th>20</th>\n",
       "      <td>Canada</td>\n",
       "      <td>414</td>\n",
       "    </tr>\n",
       "    <tr>\n",
       "      <th>36</th>\n",
       "      <td>France</td>\n",
       "      <td>361</td>\n",
       "    </tr>\n",
       "    <tr>\n",
       "      <th>53</th>\n",
       "      <td>Japan</td>\n",
       "      <td>309</td>\n",
       "    </tr>\n",
       "    <tr>\n",
       "      <th>97</th>\n",
       "      <td>South Korea</td>\n",
       "      <td>227</td>\n",
       "    </tr>\n",
       "    <tr>\n",
       "      <th>99</th>\n",
       "      <td>Spain</td>\n",
       "      <td>209</td>\n",
       "    </tr>\n",
       "    <tr>\n",
       "      <th>38</th>\n",
       "      <td>Germany</td>\n",
       "      <td>207</td>\n",
       "    </tr>\n",
       "  </tbody>\n",
       "</table>\n",
       "</div>"
      ],
      "text/plain": [
       "            country  title\n",
       "112   United States   3283\n",
       "45            India   1007\n",
       "110  United Kingdom    708\n",
       "119             nan    677\n",
       "20           Canada    414\n",
       "36           France    361\n",
       "53            Japan    309\n",
       "97      South Korea    227\n",
       "99            Spain    209\n",
       "38          Germany    207"
      ]
     },
     "execution_count": 388,
     "metadata": {},
     "output_type": "execute_result"
    }
   ],
   "source": [
    "df_t = df_pop.groupby('country')['title'].nunique().reset_index().sort_values('title',ascending=False).head(10)\n",
    "df_t"
   ]
  },
  {
   "cell_type": "code",
   "execution_count": 391,
   "id": "99a76517",
   "metadata": {},
   "outputs": [
    {
     "data": {
      "text/plain": [
       "<AxesSubplot:xlabel='country', ylabel='title'>"
      ]
     },
     "execution_count": 391,
     "metadata": {},
     "output_type": "execute_result"
    },
    {
     "data": {
      "image/png": "[encoded data removed]",
      "text/plain": [
       "<Figure size 1440x432 with 1 Axes>"
      ]
     },
     "metadata": {
      "needs_background": "light"
     },
     "output_type": "display_data"
    }
   ],
   "source": [
    "plt.figure(figsize=(20,6))\n",
    "sns.barplot(data=df_t,x='country',y='title',color='red')"
   ]
  },
  {
   "cell_type": "markdown",
   "id": "d5e129a6",
   "metadata": {},
   "source": [
    "## Here the plot shows which country releases are most popular in Netflix, lets analyze top 3 countries i.e US, India, UK"
   ]
  },
  {
   "cell_type": "code",
   "execution_count": null,
   "id": "9ae5d37b",
   "metadata": {},
   "outputs": [],
   "source": []
  },
  {
   "cell_type": "markdown",
   "id": "3abc6da7",
   "metadata": {},
   "source": [
    "## Finding the most popular actor in these countries, we can use there actors as artists for our content creation"
   ]
  },
  {
   "cell_type": "code",
   "execution_count": 381,
   "id": "924bb9e4",
   "metadata": {},
   "outputs": [],
   "source": [
    "df_p = df_pop.groupby(['country','cast'])['title'].nunique().reset_index().sort_values('title',ascending=False)"
   ]
  },
  {
   "cell_type": "code",
   "execution_count": 385,
   "id": "e757d146",
   "metadata": {},
   "outputs": [
    {
     "data": {
      "text/html": [
       "<div>\n",
       "<style scoped>\n",
       "    .dataframe tbody tr th:only-of-type {\n",
       "        vertical-align: middle;\n",
       "    }\n",
       "\n",
       "    .dataframe tbody tr th {\n",
       "        vertical-align: top;\n",
       "    }\n",
       "\n",
       "    .dataframe thead th {\n",
       "        text-align: right;\n",
       "    }\n",
       "</style>\n",
       "<table border=\"1\" class=\"dataframe\">\n",
       "  <thead>\n",
       "    <tr style=\"text-align: right;\">\n",
       "      <th></th>\n",
       "      <th>country</th>\n",
       "      <th>cast</th>\n",
       "      <th>title</th>\n",
       "    </tr>\n",
       "  </thead>\n",
       "  <tbody>\n",
       "    <tr>\n",
       "      <th>48379</th>\n",
       "      <td>United States</td>\n",
       "      <td>Samuel L. Jackson</td>\n",
       "      <td>22</td>\n",
       "    </tr>\n",
       "    <tr>\n",
       "      <th>49454</th>\n",
       "      <td>United States</td>\n",
       "      <td>Tara Strong</td>\n",
       "      <td>22</td>\n",
       "    </tr>\n",
       "    <tr>\n",
       "      <th>40502</th>\n",
       "      <td>United States</td>\n",
       "      <td>Fred Tatasciore</td>\n",
       "      <td>21</td>\n",
       "    </tr>\n",
       "    <tr>\n",
       "      <th>35767</th>\n",
       "      <td>United States</td>\n",
       "      <td>Adam Sandler</td>\n",
       "      <td>20</td>\n",
       "    </tr>\n",
       "    <tr>\n",
       "      <th>46475</th>\n",
       "      <td>United States</td>\n",
       "      <td>Nicolas Cage</td>\n",
       "      <td>19</td>\n",
       "    </tr>\n",
       "    <tr>\n",
       "      <th>41713</th>\n",
       "      <td>United States</td>\n",
       "      <td>James Franco</td>\n",
       "      <td>19</td>\n",
       "    </tr>\n",
       "    <tr>\n",
       "      <th>46131</th>\n",
       "      <td>United States</td>\n",
       "      <td>Morgan Freeman</td>\n",
       "      <td>18</td>\n",
       "    </tr>\n",
       "    <tr>\n",
       "      <th>48681</th>\n",
       "      <td>United States</td>\n",
       "      <td>Seth Rogen</td>\n",
       "      <td>18</td>\n",
       "    </tr>\n",
       "    <tr>\n",
       "      <th>46096</th>\n",
       "      <td>United States</td>\n",
       "      <td>Molly Shannon</td>\n",
       "      <td>17</td>\n",
       "    </tr>\n",
       "    <tr>\n",
       "      <th>40493</th>\n",
       "      <td>United States</td>\n",
       "      <td>Fred Armisen</td>\n",
       "      <td>16</td>\n",
       "    </tr>\n",
       "  </tbody>\n",
       "</table>\n",
       "</div>"
      ],
      "text/plain": [
       "             country               cast  title\n",
       "48379  United States  Samuel L. Jackson     22\n",
       "49454  United States        Tara Strong     22\n",
       "40502  United States    Fred Tatasciore     21\n",
       "35767  United States       Adam Sandler     20\n",
       "46475  United States       Nicolas Cage     19\n",
       "41713  United States       James Franco     19\n",
       "46131  United States     Morgan Freeman     18\n",
       "48681  United States         Seth Rogen     18\n",
       "46096  United States      Molly Shannon     17\n",
       "40493  United States       Fred Armisen     16"
      ]
     },
     "execution_count": 385,
     "metadata": {},
     "output_type": "execute_result"
    }
   ],
   "source": [
    "df_p.loc[df_p['country']=='United States'].head(10)"
   ]
  },
  {
   "cell_type": "code",
   "execution_count": 386,
   "id": "0f5d17c0",
   "metadata": {},
   "outputs": [
    {
     "data": {
      "text/html": [
       "<div>\n",
       "<style scoped>\n",
       "    .dataframe tbody tr th:only-of-type {\n",
       "        vertical-align: middle;\n",
       "    }\n",
       "\n",
       "    .dataframe tbody tr th {\n",
       "        vertical-align: top;\n",
       "    }\n",
       "\n",
       "    .dataframe thead th {\n",
       "        text-align: right;\n",
       "    }\n",
       "</style>\n",
       "<table border=\"1\" class=\"dataframe\">\n",
       "  <thead>\n",
       "    <tr style=\"text-align: right;\">\n",
       "      <th></th>\n",
       "      <th>country</th>\n",
       "      <th>cast</th>\n",
       "      <th>title</th>\n",
       "    </tr>\n",
       "  </thead>\n",
       "  <tbody>\n",
       "    <tr>\n",
       "      <th>14214</th>\n",
       "      <td>India</td>\n",
       "      <td>Anupam Kher</td>\n",
       "      <td>40</td>\n",
       "    </tr>\n",
       "    <tr>\n",
       "      <th>16854</th>\n",
       "      <td>India</td>\n",
       "      <td>Shah Rukh Khan</td>\n",
       "      <td>34</td>\n",
       "    </tr>\n",
       "    <tr>\n",
       "      <th>15860</th>\n",
       "      <td>India</td>\n",
       "      <td>Naseeruddin Shah</td>\n",
       "      <td>31</td>\n",
       "    </tr>\n",
       "    <tr>\n",
       "      <th>16010</th>\n",
       "      <td>India</td>\n",
       "      <td>Om Puri</td>\n",
       "      <td>29</td>\n",
       "    </tr>\n",
       "    <tr>\n",
       "      <th>13982</th>\n",
       "      <td>India</td>\n",
       "      <td>Akshay Kumar</td>\n",
       "      <td>29</td>\n",
       "    </tr>\n",
       "    <tr>\n",
       "      <th>16060</th>\n",
       "      <td>India</td>\n",
       "      <td>Paresh Rawal</td>\n",
       "      <td>28</td>\n",
       "    </tr>\n",
       "    <tr>\n",
       "      <th>14054</th>\n",
       "      <td>India</td>\n",
       "      <td>Amitabh Bachchan</td>\n",
       "      <td>28</td>\n",
       "    </tr>\n",
       "    <tr>\n",
       "      <th>14499</th>\n",
       "      <td>India</td>\n",
       "      <td>Boman Irani</td>\n",
       "      <td>27</td>\n",
       "    </tr>\n",
       "    <tr>\n",
       "      <th>15305</th>\n",
       "      <td>India</td>\n",
       "      <td>Kareena Kapoor</td>\n",
       "      <td>25</td>\n",
       "    </tr>\n",
       "    <tr>\n",
       "      <th>13957</th>\n",
       "      <td>India</td>\n",
       "      <td>Ajay Devgn</td>\n",
       "      <td>21</td>\n",
       "    </tr>\n",
       "  </tbody>\n",
       "</table>\n",
       "</div>"
      ],
      "text/plain": [
       "      country              cast  title\n",
       "14214   India       Anupam Kher     40\n",
       "16854   India    Shah Rukh Khan     34\n",
       "15860   India  Naseeruddin Shah     31\n",
       "16010   India           Om Puri     29\n",
       "13982   India      Akshay Kumar     29\n",
       "16060   India      Paresh Rawal     28\n",
       "14054   India  Amitabh Bachchan     28\n",
       "14499   India       Boman Irani     27\n",
       "15305   India    Kareena Kapoor     25\n",
       "13957   India        Ajay Devgn     21"
      ]
     },
     "execution_count": 386,
     "metadata": {},
     "output_type": "execute_result"
    }
   ],
   "source": [
    "df_p.loc[df_p['country']=='India'].head(10)"
   ]
  },
  {
   "cell_type": "code",
   "execution_count": 387,
   "id": "314f30d0",
   "metadata": {},
   "outputs": [
    {
     "data": {
      "text/html": [
       "<div>\n",
       "<style scoped>\n",
       "    .dataframe tbody tr th:only-of-type {\n",
       "        vertical-align: middle;\n",
       "    }\n",
       "\n",
       "    .dataframe tbody tr th {\n",
       "        vertical-align: top;\n",
       "    }\n",
       "\n",
       "    .dataframe thead th {\n",
       "        text-align: right;\n",
       "    }\n",
       "</style>\n",
       "<table border=\"1\" class=\"dataframe\">\n",
       "  <thead>\n",
       "    <tr style=\"text-align: right;\">\n",
       "      <th></th>\n",
       "      <th>country</th>\n",
       "      <th>cast</th>\n",
       "      <th>title</th>\n",
       "    </tr>\n",
       "  </thead>\n",
       "  <tbody>\n",
       "    <tr>\n",
       "      <th>32592</th>\n",
       "      <td>United Kingdom</td>\n",
       "      <td>David Attenborough</td>\n",
       "      <td>17</td>\n",
       "    </tr>\n",
       "    <tr>\n",
       "      <th>33527</th>\n",
       "      <td>United Kingdom</td>\n",
       "      <td>John Cleese</td>\n",
       "      <td>16</td>\n",
       "    </tr>\n",
       "    <tr>\n",
       "      <th>34256</th>\n",
       "      <td>United Kingdom</td>\n",
       "      <td>Michael Palin</td>\n",
       "      <td>14</td>\n",
       "    </tr>\n",
       "    <tr>\n",
       "      <th>35331</th>\n",
       "      <td>United Kingdom</td>\n",
       "      <td>Terry Jones</td>\n",
       "      <td>12</td>\n",
       "    </tr>\n",
       "    <tr>\n",
       "      <th>32877</th>\n",
       "      <td>United Kingdom</td>\n",
       "      <td>Eric Idle</td>\n",
       "      <td>12</td>\n",
       "    </tr>\n",
       "    <tr>\n",
       "      <th>35330</th>\n",
       "      <td>United Kingdom</td>\n",
       "      <td>Terry Gilliam</td>\n",
       "      <td>11</td>\n",
       "    </tr>\n",
       "    <tr>\n",
       "      <th>33064</th>\n",
       "      <td>United Kingdom</td>\n",
       "      <td>Graham Chapman</td>\n",
       "      <td>11</td>\n",
       "    </tr>\n",
       "    <tr>\n",
       "      <th>33627</th>\n",
       "      <td>United Kingdom</td>\n",
       "      <td>Judi Dench</td>\n",
       "      <td>9</td>\n",
       "    </tr>\n",
       "    <tr>\n",
       "      <th>33144</th>\n",
       "      <td>United Kingdom</td>\n",
       "      <td>Helena Bonham Carter</td>\n",
       "      <td>9</td>\n",
       "    </tr>\n",
       "    <tr>\n",
       "      <th>34980</th>\n",
       "      <td>United Kingdom</td>\n",
       "      <td>Samuel West</td>\n",
       "      <td>9</td>\n",
       "    </tr>\n",
       "  </tbody>\n",
       "</table>\n",
       "</div>"
      ],
      "text/plain": [
       "              country                  cast  title\n",
       "32592  United Kingdom    David Attenborough     17\n",
       "33527  United Kingdom           John Cleese     16\n",
       "34256  United Kingdom         Michael Palin     14\n",
       "35331  United Kingdom           Terry Jones     12\n",
       "32877  United Kingdom             Eric Idle     12\n",
       "35330  United Kingdom         Terry Gilliam     11\n",
       "33064  United Kingdom        Graham Chapman     11\n",
       "33627  United Kingdom            Judi Dench      9\n",
       "33144  United Kingdom  Helena Bonham Carter      9\n",
       "34980  United Kingdom           Samuel West      9"
      ]
     },
     "execution_count": 387,
     "metadata": {},
     "output_type": "execute_result"
    }
   ],
   "source": [
    "df_p.loc[df_p['country']=='United Kingdom'].head(10)"
   ]
  },
  {
   "cell_type": "code",
   "execution_count": null,
   "id": "d188e276",
   "metadata": {},
   "outputs": [],
   "source": []
  },
  {
   "cell_type": "code",
   "execution_count": null,
   "id": "7b6c027a",
   "metadata": {},
   "outputs": [],
   "source": []
  },
  {
   "cell_type": "markdown",
   "id": "6e793e57",
   "metadata": {},
   "source": [
    "## Analysing what type of content does each country have"
   ]
  },
  {
   "cell_type": "code",
   "execution_count": 395,
   "id": "d6992888",
   "metadata": {},
   "outputs": [],
   "source": [
    "df_pop = df_final.loc[df_final['country']!='nan',['listed_in','country','title']].drop_duplicates()"
   ]
  },
  {
   "cell_type": "code",
   "execution_count": 399,
   "id": "c9d0617f",
   "metadata": {},
   "outputs": [],
   "source": [
    "df_p = df_pop.groupby(['country','listed_in'])['title'].count().reset_index().sort_values('title',ascending=False)"
   ]
  },
  {
   "cell_type": "code",
   "execution_count": 401,
   "id": "b35f567d",
   "metadata": {},
   "outputs": [
    {
     "data": {
      "text/html": [
       "<div>\n",
       "<style scoped>\n",
       "    .dataframe tbody tr th:only-of-type {\n",
       "        vertical-align: middle;\n",
       "    }\n",
       "\n",
       "    .dataframe tbody tr th {\n",
       "        vertical-align: top;\n",
       "    }\n",
       "\n",
       "    .dataframe thead th {\n",
       "        text-align: right;\n",
       "    }\n",
       "</style>\n",
       "<table border=\"1\" class=\"dataframe\">\n",
       "  <thead>\n",
       "    <tr style=\"text-align: right;\">\n",
       "      <th></th>\n",
       "      <th>country</th>\n",
       "      <th>listed_in</th>\n",
       "      <th>title</th>\n",
       "    </tr>\n",
       "  </thead>\n",
       "  <tbody>\n",
       "    <tr>\n",
       "      <th>1351</th>\n",
       "      <td>United States</td>\n",
       "      <td>Dramas</td>\n",
       "      <td>835</td>\n",
       "    </tr>\n",
       "    <tr>\n",
       "      <th>1346</th>\n",
       "      <td>United States</td>\n",
       "      <td>Comedies</td>\n",
       "      <td>680</td>\n",
       "    </tr>\n",
       "    <tr>\n",
       "      <th>1349</th>\n",
       "      <td>United States</td>\n",
       "      <td>Documentaries</td>\n",
       "      <td>511</td>\n",
       "    </tr>\n",
       "    <tr>\n",
       "      <th>1339</th>\n",
       "      <td>United States</td>\n",
       "      <td>Action &amp; Adventure</td>\n",
       "      <td>404</td>\n",
       "    </tr>\n",
       "    <tr>\n",
       "      <th>1354</th>\n",
       "      <td>United States</td>\n",
       "      <td>Independent Movies</td>\n",
       "      <td>390</td>\n",
       "    </tr>\n",
       "    <tr>\n",
       "      <th>1343</th>\n",
       "      <td>United States</td>\n",
       "      <td>Children &amp; Family Movies</td>\n",
       "      <td>390</td>\n",
       "    </tr>\n",
       "    <tr>\n",
       "      <th>1380</th>\n",
       "      <td>United States</td>\n",
       "      <td>Thrillers</td>\n",
       "      <td>292</td>\n",
       "    </tr>\n",
       "    <tr>\n",
       "      <th>1372</th>\n",
       "      <td>United States</td>\n",
       "      <td>TV Comedies</td>\n",
       "      <td>258</td>\n",
       "    </tr>\n",
       "    <tr>\n",
       "      <th>1373</th>\n",
       "      <td>United States</td>\n",
       "      <td>TV Dramas</td>\n",
       "      <td>232</td>\n",
       "    </tr>\n",
       "    <tr>\n",
       "      <th>1363</th>\n",
       "      <td>United States</td>\n",
       "      <td>Romantic Movies</td>\n",
       "      <td>225</td>\n",
       "    </tr>\n",
       "  </tbody>\n",
       "</table>\n",
       "</div>"
      ],
      "text/plain": [
       "            country                 listed_in  title\n",
       "1351  United States                    Dramas    835\n",
       "1346  United States                  Comedies    680\n",
       "1349  United States             Documentaries    511\n",
       "1339  United States        Action & Adventure    404\n",
       "1354  United States        Independent Movies    390\n",
       "1343  United States  Children & Family Movies    390\n",
       "1380  United States                 Thrillers    292\n",
       "1372  United States               TV Comedies    258\n",
       "1373  United States                 TV Dramas    232\n",
       "1363  United States           Romantic Movies    225"
      ]
     },
     "execution_count": 401,
     "metadata": {},
     "output_type": "execute_result"
    }
   ],
   "source": [
    "df_p.loc[df_p['country']=='United States'].head(10)"
   ]
  },
  {
   "cell_type": "markdown",
   "id": "70914d43",
   "metadata": {},
   "source": [
    "### We can say that USA is most interested in Dramas, Comedies, Documentaries, Action and Advenure etc, we can also observe that USA content is better diversified compared to other countries"
   ]
  },
  {
   "cell_type": "code",
   "execution_count": null,
   "id": "aea90fd1",
   "metadata": {},
   "outputs": [],
   "source": []
  },
  {
   "cell_type": "code",
   "execution_count": null,
   "id": "9b0b2b98",
   "metadata": {},
   "outputs": [],
   "source": []
  },
  {
   "cell_type": "code",
   "execution_count": 403,
   "id": "f547cf27",
   "metadata": {},
   "outputs": [
    {
     "data": {
      "text/html": [
       "<div>\n",
       "<style scoped>\n",
       "    .dataframe tbody tr th:only-of-type {\n",
       "        vertical-align: middle;\n",
       "    }\n",
       "\n",
       "    .dataframe tbody tr th {\n",
       "        vertical-align: top;\n",
       "    }\n",
       "\n",
       "    .dataframe thead th {\n",
       "        text-align: right;\n",
       "    }\n",
       "</style>\n",
       "<table border=\"1\" class=\"dataframe\">\n",
       "  <thead>\n",
       "    <tr style=\"text-align: right;\">\n",
       "      <th></th>\n",
       "      <th>country</th>\n",
       "      <th>listed_in</th>\n",
       "      <th>title</th>\n",
       "    </tr>\n",
       "  </thead>\n",
       "  <tbody>\n",
       "    <tr>\n",
       "      <th>526</th>\n",
       "      <td>India</td>\n",
       "      <td>International Movies</td>\n",
       "      <td>864</td>\n",
       "    </tr>\n",
       "    <tr>\n",
       "      <th>522</th>\n",
       "      <td>India</td>\n",
       "      <td>Dramas</td>\n",
       "      <td>662</td>\n",
       "    </tr>\n",
       "    <tr>\n",
       "      <th>517</th>\n",
       "      <td>India</td>\n",
       "      <td>Comedies</td>\n",
       "      <td>323</td>\n",
       "    </tr>\n",
       "    <tr>\n",
       "      <th>525</th>\n",
       "      <td>India</td>\n",
       "      <td>Independent Movies</td>\n",
       "      <td>167</td>\n",
       "    </tr>\n",
       "    <tr>\n",
       "      <th>513</th>\n",
       "      <td>India</td>\n",
       "      <td>Action &amp; Adventure</td>\n",
       "      <td>137</td>\n",
       "    </tr>\n",
       "    <tr>\n",
       "      <th>532</th>\n",
       "      <td>India</td>\n",
       "      <td>Romantic Movies</td>\n",
       "      <td>120</td>\n",
       "    </tr>\n",
       "    <tr>\n",
       "      <th>530</th>\n",
       "      <td>India</td>\n",
       "      <td>Music &amp; Musicals</td>\n",
       "      <td>96</td>\n",
       "    </tr>\n",
       "    <tr>\n",
       "      <th>547</th>\n",
       "      <td>India</td>\n",
       "      <td>Thrillers</td>\n",
       "      <td>92</td>\n",
       "    </tr>\n",
       "    <tr>\n",
       "      <th>527</th>\n",
       "      <td>India</td>\n",
       "      <td>International TV Shows</td>\n",
       "      <td>66</td>\n",
       "    </tr>\n",
       "    <tr>\n",
       "      <th>524</th>\n",
       "      <td>India</td>\n",
       "      <td>Horror Movies</td>\n",
       "      <td>35</td>\n",
       "    </tr>\n",
       "  </tbody>\n",
       "</table>\n",
       "</div>"
      ],
      "text/plain": [
       "    country               listed_in  title\n",
       "526   India    International Movies    864\n",
       "522   India                  Dramas    662\n",
       "517   India                Comedies    323\n",
       "525   India      Independent Movies    167\n",
       "513   India      Action & Adventure    137\n",
       "532   India         Romantic Movies    120\n",
       "530   India        Music & Musicals     96\n",
       "547   India               Thrillers     92\n",
       "527   India  International TV Shows     66\n",
       "524   India           Horror Movies     35"
      ]
     },
     "execution_count": 403,
     "metadata": {},
     "output_type": "execute_result"
    }
   ],
   "source": [
    "df_p.loc[df_p['country']=='India'].head(10)"
   ]
  },
  {
   "cell_type": "markdown",
   "id": "424852c2",
   "metadata": {},
   "source": [
    "## From the above table, we can say India loves International movies, Dramas, Comedies mostly with high concentration, and rest of the generes they arent much interested,\n",
    "## As India has lot of content from International Movies, India is a good place to have more other countries regional content dubbed into International language available"
   ]
  },
  {
   "cell_type": "code",
   "execution_count": null,
   "id": "82d8581e",
   "metadata": {},
   "outputs": [],
   "source": []
  },
  {
   "cell_type": "code",
   "execution_count": 402,
   "id": "7ee1bf29",
   "metadata": {},
   "outputs": [
    {
     "data": {
      "text/html": [
       "<div>\n",
       "<style scoped>\n",
       "    .dataframe tbody tr th:only-of-type {\n",
       "        vertical-align: middle;\n",
       "    }\n",
       "\n",
       "    .dataframe tbody tr th {\n",
       "        vertical-align: top;\n",
       "    }\n",
       "\n",
       "    .dataframe thead th {\n",
       "        text-align: right;\n",
       "    }\n",
       "</style>\n",
       "<table border=\"1\" class=\"dataframe\">\n",
       "  <thead>\n",
       "    <tr style=\"text-align: right;\">\n",
       "      <th></th>\n",
       "      <th>country</th>\n",
       "      <th>listed_in</th>\n",
       "      <th>title</th>\n",
       "    </tr>\n",
       "  </thead>\n",
       "  <tbody>\n",
       "    <tr>\n",
       "      <th>1300</th>\n",
       "      <td>United Kingdom</td>\n",
       "      <td>British TV Shows</td>\n",
       "      <td>225</td>\n",
       "    </tr>\n",
       "    <tr>\n",
       "      <th>1309</th>\n",
       "      <td>United Kingdom</td>\n",
       "      <td>Dramas</td>\n",
       "      <td>196</td>\n",
       "    </tr>\n",
       "    <tr>\n",
       "      <th>1313</th>\n",
       "      <td>United Kingdom</td>\n",
       "      <td>International Movies</td>\n",
       "      <td>168</td>\n",
       "    </tr>\n",
       "    <tr>\n",
       "      <th>1314</th>\n",
       "      <td>United Kingdom</td>\n",
       "      <td>International TV Shows</td>\n",
       "      <td>128</td>\n",
       "    </tr>\n",
       "    <tr>\n",
       "      <th>1307</th>\n",
       "      <td>United Kingdom</td>\n",
       "      <td>Documentaries</td>\n",
       "      <td>127</td>\n",
       "    </tr>\n",
       "    <tr>\n",
       "      <th>1304</th>\n",
       "      <td>United Kingdom</td>\n",
       "      <td>Comedies</td>\n",
       "      <td>91</td>\n",
       "    </tr>\n",
       "    <tr>\n",
       "      <th>1308</th>\n",
       "      <td>United Kingdom</td>\n",
       "      <td>Docuseries</td>\n",
       "      <td>89</td>\n",
       "    </tr>\n",
       "    <tr>\n",
       "      <th>1299</th>\n",
       "      <td>United Kingdom</td>\n",
       "      <td>Action &amp; Adventure</td>\n",
       "      <td>84</td>\n",
       "    </tr>\n",
       "    <tr>\n",
       "      <th>1312</th>\n",
       "      <td>United Kingdom</td>\n",
       "      <td>Independent Movies</td>\n",
       "      <td>74</td>\n",
       "    </tr>\n",
       "    <tr>\n",
       "      <th>1335</th>\n",
       "      <td>United Kingdom</td>\n",
       "      <td>Thrillers</td>\n",
       "      <td>61</td>\n",
       "    </tr>\n",
       "  </tbody>\n",
       "</table>\n",
       "</div>"
      ],
      "text/plain": [
       "             country               listed_in  title\n",
       "1300  United Kingdom        British TV Shows    225\n",
       "1309  United Kingdom                  Dramas    196\n",
       "1313  United Kingdom    International Movies    168\n",
       "1314  United Kingdom  International TV Shows    128\n",
       "1307  United Kingdom           Documentaries    127\n",
       "1304  United Kingdom                Comedies     91\n",
       "1308  United Kingdom              Docuseries     89\n",
       "1299  United Kingdom      Action & Adventure     84\n",
       "1312  United Kingdom      Independent Movies     74\n",
       "1335  United Kingdom               Thrillers     61"
      ]
     },
     "execution_count": 402,
     "metadata": {},
     "output_type": "execute_result"
    }
   ],
   "source": [
    "df_p.loc[df_p['country']=='United Kingdom'].head(10)"
   ]
  },
  {
   "cell_type": "markdown",
   "id": "2d9ca343",
   "metadata": {},
   "source": [
    "## UK also has diversified content"
   ]
  },
  {
   "cell_type": "code",
   "execution_count": null,
   "id": "04ebe371",
   "metadata": {},
   "outputs": [],
   "source": []
  },
  {
   "cell_type": "code",
   "execution_count": 406,
   "id": "30bfd0b7",
   "metadata": {},
   "outputs": [],
   "source": [
    "df_final['month'] = df_final['date_added'].dt.month"
   ]
  },
  {
   "cell_type": "code",
   "execution_count": 407,
   "id": "27faf346",
   "metadata": {},
   "outputs": [],
   "source": [
    "df_pop = df_final.loc[df_final['country']!='nan',['listed_in','country','title']].drop_duplicates()"
   ]
  },
  {
   "cell_type": "code",
   "execution_count": 416,
   "id": "ed196dff",
   "metadata": {},
   "outputs": [],
   "source": [
    "df_p = df_pop.groupby(['month','country'])['title'].count().reset_index().sort_values('title',ascending=False)"
   ]
  },
  {
   "cell_type": "code",
   "execution_count": 412,
   "id": "c1db41b2",
   "metadata": {},
   "outputs": [
    {
     "data": {
      "text/plain": [
       "<AxesSubplot:xlabel='month', ylabel='title'>"
      ]
     },
     "execution_count": 412,
     "metadata": {},
     "output_type": "execute_result"
    },
    {
     "data": {
      "image/png": "[encoded data removed]",
      "text/plain": [
       "<Figure size 432x288 with 1 Axes>"
      ]
     },
     "metadata": {
      "needs_background": "light"
     },
     "output_type": "display_data"
    }
   ],
   "source": [
    "sns.lineplot(data = df_p.loc[df_p['country']=='United States'],x='month',y='title')"
   ]
  },
  {
   "cell_type": "markdown",
   "id": "728e8ded",
   "metadata": {},
   "source": [
    "## In USA there is less content released in the months of Feb and May and very high content released in Jan"
   ]
  },
  {
   "cell_type": "markdown",
   "id": "21699786",
   "metadata": {},
   "source": []
  },
  {
   "cell_type": "code",
   "execution_count": null,
   "id": "c9c07b79",
   "metadata": {},
   "outputs": [],
   "source": []
  },
  {
   "cell_type": "code",
   "execution_count": 413,
   "id": "d1c636ae",
   "metadata": {},
   "outputs": [
    {
     "data": {
      "text/plain": [
       "<AxesSubplot:xlabel='month', ylabel='title'>"
      ]
     },
     "execution_count": 413,
     "metadata": {},
     "output_type": "execute_result"
    },
    {
     "data": {
      "image/png": "[encoded data removed]",
      "text/plain": [
       "<Figure size 432x288 with 1 Axes>"
      ]
     },
     "metadata": {
      "needs_background": "light"
     },
     "output_type": "display_data"
    }
   ],
   "source": [
    "sns.lineplot(data = df_p.loc[df_p['country']=='India'],x='month',y='title')"
   ]
  },
  {
   "cell_type": "markdown",
   "id": "90fb3e67",
   "metadata": {},
   "source": [
    "## In India Feb, May and June has very low content released and march April and October have very high release, this may be because of festival and holiday season"
   ]
  },
  {
   "cell_type": "code",
   "execution_count": null,
   "id": "871eb045",
   "metadata": {},
   "outputs": [],
   "source": []
  },
  {
   "cell_type": "code",
   "execution_count": 414,
   "id": "7c6aa6ee",
   "metadata": {},
   "outputs": [
    {
     "data": {
      "text/plain": [
       "<AxesSubplot:xlabel='month', ylabel='title'>"
      ]
     },
     "execution_count": 414,
     "metadata": {},
     "output_type": "execute_result"
    },
    {
     "data": {
      "image/png": "[encoded data removed]",
      "text/plain": [
       "<Figure size 432x288 with 1 Axes>"
      ]
     },
     "metadata": {
      "needs_background": "light"
     },
     "output_type": "display_data"
    }
   ],
   "source": [
    "sns.lineplot(data = df_p.loc[df_p['country']=='United Kingdom'],x='month',y='title')"
   ]
  },
  {
   "cell_type": "code",
   "execution_count": null,
   "id": "0f85aefc",
   "metadata": {},
   "outputs": [],
   "source": []
  },
  {
   "cell_type": "code",
   "execution_count": null,
   "id": "743ea7b4",
   "metadata": {},
   "outputs": [],
   "source": []
  },
  {
   "cell_type": "code",
   "execution_count": 419,
   "id": "0ed3b635",
   "metadata": {},
   "outputs": [],
   "source": []
  },
  {
   "cell_type": "code",
   "execution_count": 430,
   "id": "8dd8d812",
   "metadata": {},
   "outputs": [
    {
     "data": {
      "text/html": [
       "<div>\n",
       "<style scoped>\n",
       "    .dataframe tbody tr th:only-of-type {\n",
       "        vertical-align: middle;\n",
       "    }\n",
       "\n",
       "    .dataframe tbody tr th {\n",
       "        vertical-align: top;\n",
       "    }\n",
       "\n",
       "    .dataframe thead th {\n",
       "        text-align: right;\n",
       "    }\n",
       "</style>\n",
       "<table border=\"1\" class=\"dataframe\">\n",
       "  <thead>\n",
       "    <tr style=\"text-align: right;\">\n",
       "      <th></th>\n",
       "      <th>release_year</th>\n",
       "      <th>type</th>\n",
       "      <th>title</th>\n",
       "    </tr>\n",
       "  </thead>\n",
       "  <tbody>\n",
       "    <tr>\n",
       "      <th>0</th>\n",
       "      <td>1960</td>\n",
       "      <td>Movie</td>\n",
       "      <td>2</td>\n",
       "    </tr>\n",
       "    <tr>\n",
       "      <th>1</th>\n",
       "      <td>1962</td>\n",
       "      <td>Movie</td>\n",
       "      <td>2</td>\n",
       "    </tr>\n",
       "    <tr>\n",
       "      <th>2</th>\n",
       "      <td>1966</td>\n",
       "      <td>Movie</td>\n",
       "      <td>1</td>\n",
       "    </tr>\n",
       "    <tr>\n",
       "      <th>3</th>\n",
       "      <td>1971</td>\n",
       "      <td>Movie</td>\n",
       "      <td>1</td>\n",
       "    </tr>\n",
       "    <tr>\n",
       "      <th>4</th>\n",
       "      <td>1973</td>\n",
       "      <td>Movie</td>\n",
       "      <td>4</td>\n",
       "    </tr>\n",
       "    <tr>\n",
       "      <th>...</th>\n",
       "      <td>...</td>\n",
       "      <td>...</td>\n",
       "      <td>...</td>\n",
       "    </tr>\n",
       "    <tr>\n",
       "      <th>66</th>\n",
       "      <td>2019</td>\n",
       "      <td>TV Show</td>\n",
       "      <td>13</td>\n",
       "    </tr>\n",
       "    <tr>\n",
       "      <th>67</th>\n",
       "      <td>2020</td>\n",
       "      <td>Movie</td>\n",
       "      <td>37</td>\n",
       "    </tr>\n",
       "    <tr>\n",
       "      <th>68</th>\n",
       "      <td>2020</td>\n",
       "      <td>TV Show</td>\n",
       "      <td>28</td>\n",
       "    </tr>\n",
       "    <tr>\n",
       "      <th>69</th>\n",
       "      <td>2021</td>\n",
       "      <td>Movie</td>\n",
       "      <td>19</td>\n",
       "    </tr>\n",
       "    <tr>\n",
       "      <th>70</th>\n",
       "      <td>2021</td>\n",
       "      <td>TV Show</td>\n",
       "      <td>17</td>\n",
       "    </tr>\n",
       "  </tbody>\n",
       "</table>\n",
       "<p>71 rows × 3 columns</p>\n",
       "</div>"
      ],
      "text/plain": [
       "    release_year     type  title\n",
       "0           1960    Movie      2\n",
       "1           1962    Movie      2\n",
       "2           1966    Movie      1\n",
       "3           1971    Movie      1\n",
       "4           1973    Movie      4\n",
       "..           ...      ...    ...\n",
       "66          2019  TV Show     13\n",
       "67          2020    Movie     37\n",
       "68          2020  TV Show     28\n",
       "69          2021    Movie     19\n",
       "70          2021  TV Show     17\n",
       "\n",
       "[71 rows x 3 columns]"
      ]
     },
     "execution_count": 430,
     "metadata": {},
     "output_type": "execute_result"
    }
   ],
   "source": []
  },
  {
   "cell_type": "code",
   "execution_count": 437,
   "id": "2414bb1b",
   "metadata": {},
   "outputs": [
    {
     "data": {
      "text/plain": [
       "(1990.0, 2025.8)"
      ]
     },
     "execution_count": 437,
     "metadata": {},
     "output_type": "execute_result"
    },
    {
     "data": {
      "image/png": "[encoded data removed]",
      "text/plain": [
       "<Figure size 1440x432 with 1 Axes>"
      ]
     },
     "metadata": {
      "needs_background": "light"
     },
     "output_type": "display_data"
    }
   ],
   "source": [
    "df_t = df.loc[df_final['country']=='United States',['type','title','release_year']].drop_duplicates()\n",
    "df_t = df_t.groupby(['release_year','type'])['title'].count().reset_index()\n",
    "plt.figure(figsize=(20,6))\n",
    "sns.lineplot(data = df_t,x='release_year',y='title',hue='type')\n",
    "plt.xlim((1990,None))"
   ]
  },
  {
   "cell_type": "markdown",
   "id": "cb519ce7",
   "metadata": {},
   "source": [
    "### In USA TV Shows are more popular to other countries, As India is much interested in International content and there is the growth in TV shows content in India, we can make more TV Shows available in India"
   ]
  },
  {
   "cell_type": "code",
   "execution_count": null,
   "id": "fe68bb6b",
   "metadata": {},
   "outputs": [],
   "source": []
  },
  {
   "cell_type": "code",
   "execution_count": 436,
   "id": "91b4ebab",
   "metadata": {
    "scrolled": true
   },
   "outputs": [
    {
     "data": {
      "text/plain": [
       "(1990.0, 2024.05)"
      ]
     },
     "execution_count": 436,
     "metadata": {},
     "output_type": "execute_result"
    },
    {
     "data": {
      "image/png": "[encoded data removed]",
      "text/plain": [
       "<Figure size 1440x432 with 1 Axes>"
      ]
     },
     "metadata": {
      "needs_background": "light"
     },
     "output_type": "display_data"
    }
   ],
   "source": [
    "df_t = df.loc[df_final['country']=='India',['type','title','release_year']].drop_duplicates()\n",
    "df_t = df_t.groupby(['release_year','type'])['title'].count().reset_index()\n",
    "plt.figure(figsize=(20,6))\n",
    "sns.lineplot(data = df_t,x='release_year',y='title',hue='type')\n",
    "plt.xlim((1990,None))"
   ]
  },
  {
   "cell_type": "markdown",
   "id": "a745b973",
   "metadata": {},
   "source": [
    "### There is very low penetration of TV shows in India"
   ]
  },
  {
   "cell_type": "code",
   "execution_count": null,
   "id": "664b566c",
   "metadata": {},
   "outputs": [],
   "source": []
  },
  {
   "cell_type": "code",
   "execution_count": 438,
   "id": "6d3eeb02",
   "metadata": {},
   "outputs": [
    {
     "data": {
      "text/plain": [
       "(1990.0, 2024.3)"
      ]
     },
     "execution_count": 438,
     "metadata": {},
     "output_type": "execute_result"
    },
    {
     "data": {
      "image/png": "[encoded data removed]",
      "text/plain": [
       "<Figure size 1440x432 with 1 Axes>"
      ]
     },
     "metadata": {
      "needs_background": "light"
     },
     "output_type": "display_data"
    }
   ],
   "source": [
    "df_t = df.loc[df_final['country']=='United Kingdom',['type','title','release_year']].drop_duplicates()\n",
    "df_t = df_t.groupby(['release_year','type'])['title'].count().reset_index()\n",
    "plt.figure(figsize=(20,6))\n",
    "sns.lineplot(data = df_t,x='release_year',y='title',hue='type')\n",
    "plt.xlim((1990,None))"
   ]
  },
  {
   "cell_type": "markdown",
   "id": "87674230",
   "metadata": {},
   "source": [
    "### TV shows are picking up well with Movies, We can see UK is more similar to USA, we can interchange the contents from USA to UK and vice versa to increase the watch time"
   ]
  },
  {
   "cell_type": "code",
   "execution_count": null,
   "id": "8ca288f3",
   "metadata": {},
   "outputs": [],
   "source": []
  },
  {
   "cell_type": "code",
   "execution_count": 441,
   "id": "61655a83",
   "metadata": {},
   "outputs": [],
   "source": [
    "temp_df = df.groupby(['rating'])['title'].count().reset_index()\n",
    "rat_vals = temp_df.loc[temp_df['title']>10,'rating'].values\n",
    "rat_cols = temp_df.loc[temp_df['title']>10].sort_values('title',ascending=False).rating"
   ]
  },
  {
   "cell_type": "code",
   "execution_count": 442,
   "id": "cd5d736a",
   "metadata": {},
   "outputs": [],
   "source": [
    "eachyrrat_df = df.groupby(['rating','year_added'])['title'].count().reset_index()"
   ]
  },
  {
   "cell_type": "code",
   "execution_count": 445,
   "id": "877c56d7",
   "metadata": {},
   "outputs": [
    {
     "data": {
      "text/plain": [
       "(2012.0, 2021.9)"
      ]
     },
     "execution_count": 445,
     "metadata": {},
     "output_type": "execute_result"
    },
    {
     "data": {
      "image/png": "[encoded data removed]",
      "text/plain": [
       "<Figure size 1440x720 with 1 Axes>"
      ]
     },
     "metadata": {
      "needs_background": "light"
     },
     "output_type": "display_data"
    }
   ],
   "source": [
    "plt.figure(figsize=(20, 10))\n",
    "sns.lineplot(data=eachyrrat_df[eachyrrat_df['rating'].isin(rat_vals)],x='year_added',y='title',hue='rating',\n",
    "            hue_order=rat_cols)\n",
    "plt.xlim([2012, None])"
   ]
  },
  {
   "cell_type": "code",
   "execution_count": null,
   "id": "447c7a4e",
   "metadata": {},
   "outputs": [],
   "source": [
    "# TV-MA : For Mature Audiences has graphic sex scenes, foul language, explicit violence, or a combination of these elements\n",
    "# TV-14 : Parents strongly cautioned. May not be suitable for ages under 14\n",
    "# TV-PG : Parental Guidance suggested\n",
    "# R : Restricted. May be inappropriate for ages under 17.\n",
    "# PG-13 : Parents strongly cautioned. May be inappropriate for ages under 13.\n",
    "# TV-Y7 : Suitable for ages 7 and up\n",
    "# TV-Y : Appropriate for children of all ages\n",
    "# PG : Parental Guidance suggested\n",
    "# TV-G : suitable for all ages; these are not necessarily children's shows"
   ]
  },
  {
   "cell_type": "markdown",
   "id": "b5b7a989",
   "metadata": {},
   "source": [
    "### Releases of kids restricted content is decreasing drastically , thought not lesser than for all age groups content, but apporiate for all age shows are gaining popularity"
   ]
  },
  {
   "cell_type": "code",
   "execution_count": null,
   "id": "c9653157",
   "metadata": {},
   "outputs": [],
   "source": []
  },
  {
   "cell_type": "code",
   "execution_count": null,
   "id": "f867edf5",
   "metadata": {},
   "outputs": [],
   "source": []
  },
  {
   "cell_type": "markdown",
   "id": "37baecbd",
   "metadata": {},
   "source": [
    "### 7. Business Insights (10 Points) - Should include patterns observed in the data along with what you can infer from it\n",
    "\n",
    "1. 70 of Netflix content is in Movies and remaining 30% in TV shows\n",
    "2. Different countries have different months as high releases and low releases, most commonly Febrary have very less releases and in few countries June as well\n",
    "3. TV shows with less number of season is more popular and Movies with approximate 100 mins duration.\n",
    "4. USA & India has producing more Movies and USA & UK has producing more TV Shows.\n",
    "5. Most of the TV shows have 1 season, only few of them went to decent 4-5 seasons\n",
    "6. TV shows are catching up recently along ith the movies and most recent 2021 even with the fall of movies, there is not much fall in TV shows, this shows that TV shows are gaining popularity we can infer that directors who make frequent movies, tends to have lesser duration of movies\n",
    "7. In the missing director column values 90%of the missing values are from TV Shows, so hence we are not replacing them, just leaving as nan\n",
    "8. We can say that USA is most interested in Dramas, Comedies, Documentaries, Action and Advenure etc, we can also observe that USA content is better diversified compared to other countries\n",
    "9. India loves International movies, Dramas, Comedies mostly with high concentration, and rest of the generes they arent much interested\n",
    "10. In USA there is less content released in the months of Feb and May and very high content released in Jan\n",
    "11. In India Feb, May and June has very low content released and march April and October have very high release, this may be because of festival and holiday seaso\n",
    " "
   ]
  },
  {
   "cell_type": "code",
   "execution_count": null,
   "id": "5077e470",
   "metadata": {},
   "outputs": [],
   "source": []
  },
  {
   "cell_type": "markdown",
   "id": "d86bb1b9",
   "metadata": {},
   "source": [
    "### 8. Recommendations (10 Points) - Actionable items for business. No technical jargon. No complications. Simple action items that everyone can understand\n",
    "\n",
    "1. As TV Shows are trending, we needs to produce more content in popular Genre.\n",
    "2. Has less shows being added to Netflix in February, that's best time to release more content to have higher viewership.\n",
    "3. Dropping the show with 1 or 2 seasons might result in loss in profit due to the money spent in promoting the series in the initial seasons\n",
    "4. As India has lot of content from International Movies, India is a good place to have more other countries regional content dubbed into International language available\n",
    "5. In USA TV Shows are more popular to other countries, As India is much interested in International content and there is the growth in TV shows content in India, we can make more TV Shows available in Indi\n"
   ]
  },
  {
   "cell_type": "code",
   "execution_count": null,
   "id": "cde02be7",
   "metadata": {},
   "outputs": [],
   "source": []
  }
 ],
 "metadata": {
  "kernelspec": {
   "display_name": "Python 3 (ipykernel)",
   "language": "python",
   "name": "python3"
  },
  "language_info": {
   "codemirror_mode": {
    "name": "ipython",
    "version": 3
   },
   "file_extension": ".py",
   "mimetype": "text/x-python",
   "name": "python",
   "nbconvert_exporter": "python",
   "pygments_lexer": "ipython3",
   "version": "3.9.7"
  }
 },
 "nbformat": 4,
 "nbformat_minor": 5
}
