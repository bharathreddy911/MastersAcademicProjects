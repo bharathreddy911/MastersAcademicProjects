{
 "cells": [
  {
   "cell_type": "markdown",
   "metadata": {
    "_cell_guid": "b1076dfc-b9ad-4769-8c92-a6c4dae69d19",
    "_uuid": "8f2839f25d086af736a60e9eeb907d3b93b6e0e5",
    "execution": {
     "iopub.execute_input": "2022-08-02T14:14:01.357461Z",
     "iopub.status.busy": "2022-08-02T14:14:01.356731Z",
     "iopub.status.idle": "2022-08-02T14:14:01.392983Z",
     "shell.execute_reply": "2022-08-02T14:14:01.392109Z",
     "shell.execute_reply.started": "2022-08-02T14:14:01.357328Z"
    }
   },
   "source": [
    "## Business Case: Walmart - Confidence Interval and CLT\n",
    "\n",
    "### About Walmart\n",
    "\n",
    "Walmart is an American multinational retail corporation that operates a chain of supercenters, discount departmental stores, and grocery stores from the United States. Walmart has more than 100 million customers worldwide\n",
    "\n",
    "### Business Problem\n",
    "\n",
    "The Management team at Walmart Inc. wants to analyze the customer purchase behavior (specifically, purchase amount) against the customer’s gender and the various other factors to help the business make better decisions. They want to understand if the spending habits differ between male and female customers: Do women spend more on Black Friday than men? (Assume 50 million customers are male and 50 million are female).\n",
    "\n",
    "\n",
    "### Dataset\n",
    "\n",
    "The company collected the transactional data of customers who purchased products from the Walmart Stores during Black Friday. The dataset has the following features:\n",
    "\n",
    "|Variable    |Description       |\n",
    "|:--------------|:-------------------|\n",
    "|User_ID:| \tUser ID|\n",
    "|Product_ID:| \tProduct ID\n",
    "|Gender:| \tSex of User\n",
    "|Age:| \tAge in bins\n",
    "|Occupation:| \tOccupation(Masked)\n",
    "|City_Category:| \tCategory of the City (A,B,C)\n",
    "|StayInCurrentCityYears:| \tNumber of years stay in current city\n",
    "|Marital_Status:| \tMarital Status\n",
    "|ProductCategory:| \tProduct Category (Masked)\n",
    "|Purchase:| \tPurchase Amount \n"
   ]
  },
  {
   "cell_type": "code",
   "execution_count": 1,
   "metadata": {
    "execution": {
     "iopub.execute_input": "2022-08-04T17:39:38.491530Z",
     "iopub.status.busy": "2022-08-04T17:39:38.491216Z",
     "iopub.status.idle": "2022-08-04T17:39:39.016193Z",
     "shell.execute_reply": "2022-08-04T17:39:39.015160Z",
     "shell.execute_reply.started": "2022-08-04T17:39:38.491506Z"
    }
   },
   "outputs": [],
   "source": [
    "import numpy as np \n",
    "import pandas as pd\n",
    "import matplotlib.pyplot as plt\n",
    "import seaborn as sns\n",
    "\n",
    "import os"
   ]
  },
  {
   "cell_type": "code",
   "execution_count": 2,
   "metadata": {
    "execution": {
     "iopub.execute_input": "2022-08-04T17:39:45.568080Z",
     "iopub.status.busy": "2022-08-04T17:39:45.567757Z",
     "iopub.status.idle": "2022-08-04T17:39:46.157984Z",
     "shell.execute_reply": "2022-08-04T17:39:46.156884Z",
     "shell.execute_reply.started": "2022-08-04T17:39:45.568055Z"
    }
   },
   "outputs": [
    {
     "data": {
      "text/html": [
       "<div>\n",
       "<style scoped>\n",
       "    .dataframe tbody tr th:only-of-type {\n",
       "        vertical-align: middle;\n",
       "    }\n",
       "\n",
       "    .dataframe tbody tr th {\n",
       "        vertical-align: top;\n",
       "    }\n",
       "\n",
       "    .dataframe thead th {\n",
       "        text-align: right;\n",
       "    }\n",
       "</style>\n",
       "<table border=\"1\" class=\"dataframe\">\n",
       "  <thead>\n",
       "    <tr style=\"text-align: right;\">\n",
       "      <th></th>\n",
       "      <th>User_ID</th>\n",
       "      <th>Product_ID</th>\n",
       "      <th>Gender</th>\n",
       "      <th>Age</th>\n",
       "      <th>Occupation</th>\n",
       "      <th>City_Category</th>\n",
       "      <th>Stay_In_Current_City_Years</th>\n",
       "      <th>Marital_Status</th>\n",
       "      <th>Product_Category</th>\n",
       "      <th>Purchase</th>\n",
       "    </tr>\n",
       "  </thead>\n",
       "  <tbody>\n",
       "    <tr>\n",
       "      <th>0</th>\n",
       "      <td>1000001</td>\n",
       "      <td>P00069042</td>\n",
       "      <td>F</td>\n",
       "      <td>0-17</td>\n",
       "      <td>10</td>\n",
       "      <td>A</td>\n",
       "      <td>2</td>\n",
       "      <td>0</td>\n",
       "      <td>3</td>\n",
       "      <td>8370</td>\n",
       "    </tr>\n",
       "    <tr>\n",
       "      <th>1</th>\n",
       "      <td>1000001</td>\n",
       "      <td>P00248942</td>\n",
       "      <td>F</td>\n",
       "      <td>0-17</td>\n",
       "      <td>10</td>\n",
       "      <td>A</td>\n",
       "      <td>2</td>\n",
       "      <td>0</td>\n",
       "      <td>1</td>\n",
       "      <td>15200</td>\n",
       "    </tr>\n",
       "    <tr>\n",
       "      <th>2</th>\n",
       "      <td>1000001</td>\n",
       "      <td>P00087842</td>\n",
       "      <td>F</td>\n",
       "      <td>0-17</td>\n",
       "      <td>10</td>\n",
       "      <td>A</td>\n",
       "      <td>2</td>\n",
       "      <td>0</td>\n",
       "      <td>12</td>\n",
       "      <td>1422</td>\n",
       "    </tr>\n",
       "    <tr>\n",
       "      <th>3</th>\n",
       "      <td>1000001</td>\n",
       "      <td>P00085442</td>\n",
       "      <td>F</td>\n",
       "      <td>0-17</td>\n",
       "      <td>10</td>\n",
       "      <td>A</td>\n",
       "      <td>2</td>\n",
       "      <td>0</td>\n",
       "      <td>12</td>\n",
       "      <td>1057</td>\n",
       "    </tr>\n",
       "    <tr>\n",
       "      <th>4</th>\n",
       "      <td>1000002</td>\n",
       "      <td>P00285442</td>\n",
       "      <td>M</td>\n",
       "      <td>55+</td>\n",
       "      <td>16</td>\n",
       "      <td>C</td>\n",
       "      <td>4+</td>\n",
       "      <td>0</td>\n",
       "      <td>8</td>\n",
       "      <td>7969</td>\n",
       "    </tr>\n",
       "  </tbody>\n",
       "</table>\n",
       "</div>"
      ],
      "text/plain": [
       "   User_ID Product_ID Gender   Age  Occupation City_Category  \\\n",
       "0  1000001  P00069042      F  0-17          10             A   \n",
       "1  1000001  P00248942      F  0-17          10             A   \n",
       "2  1000001  P00087842      F  0-17          10             A   \n",
       "3  1000001  P00085442      F  0-17          10             A   \n",
       "4  1000002  P00285442      M   55+          16             C   \n",
       "\n",
       "  Stay_In_Current_City_Years  Marital_Status  Product_Category  Purchase  \n",
       "0                          2               0                 3      8370  \n",
       "1                          2               0                 1     15200  \n",
       "2                          2               0                12      1422  \n",
       "3                          2               0                12      1057  \n",
       "4                         4+               0                 8      7969  "
      ]
     },
     "execution_count": 2,
     "metadata": {},
     "output_type": "execute_result"
    }
   ],
   "source": [
    "df = pd.read_csv(\"walmart_data.csv\")\n",
    "df.head()"
   ]
  },
  {
   "cell_type": "code",
   "execution_count": 5,
   "metadata": {
    "execution": {
     "iopub.execute_input": "2022-08-04T17:39:46.160178Z",
     "iopub.status.busy": "2022-08-04T17:39:46.159847Z",
     "iopub.status.idle": "2022-08-04T17:39:46.166074Z",
     "shell.execute_reply": "2022-08-04T17:39:46.164805Z",
     "shell.execute_reply.started": "2022-08-04T17:39:46.160145Z"
    }
   },
   "outputs": [
    {
     "name": "stdout",
     "output_type": "stream",
     "text": [
      "Number of rows: 550,068 \n",
      "Number of columns: 10\n"
     ]
    }
   ],
   "source": [
    "print(f\"Number of rows: {df.shape[0]:,} \\nNumber of columns: {df.shape[1]}\")"
   ]
  },
  {
   "cell_type": "code",
   "execution_count": null,
   "metadata": {
    "execution": {
     "iopub.execute_input": "2022-08-04T17:39:46.355364Z",
     "iopub.status.busy": "2022-08-04T17:39:46.355022Z",
     "iopub.status.idle": "2022-08-04T17:39:46.483116Z",
     "shell.execute_reply": "2022-08-04T17:39:46.482056Z",
     "shell.execute_reply.started": "2022-08-04T17:39:46.355339Z"
    }
   },
   "outputs": [],
   "source": [
    "df.info()"
   ]
  },
  {
   "cell_type": "markdown",
   "metadata": {},
   "source": [
    "##### Change the data types of - **`Occupation`**, **`Marital_Status`**, **`Product_Category`**"
   ]
  },
  {
   "cell_type": "code",
   "execution_count": null,
   "metadata": {
    "execution": {
     "iopub.execute_input": "2022-08-04T17:39:47.352322Z",
     "iopub.status.busy": "2022-08-04T17:39:47.351970Z",
     "iopub.status.idle": "2022-08-04T17:39:47.409627Z",
     "shell.execute_reply": "2022-08-04T17:39:47.408632Z",
     "shell.execute_reply.started": "2022-08-04T17:39:47.352298Z"
    }
   },
   "outputs": [],
   "source": [
    "cols = ['Occupation', 'Marital_Status', 'Product_Category']\n",
    "df[cols] = df[cols].astype('object')"
   ]
  },
  {
   "cell_type": "code",
   "execution_count": null,
   "metadata": {
    "execution": {
     "iopub.execute_input": "2022-08-04T17:39:47.648471Z",
     "iopub.status.busy": "2022-08-04T17:39:47.648121Z",
     "iopub.status.idle": "2022-08-04T17:39:47.657059Z",
     "shell.execute_reply": "2022-08-04T17:39:47.656047Z",
     "shell.execute_reply.started": "2022-08-04T17:39:47.648438Z"
    }
   },
   "outputs": [],
   "source": [
    "df.dtypes"
   ]
  },
  {
   "cell_type": "code",
   "execution_count": null,
   "metadata": {
    "execution": {
     "iopub.execute_input": "2022-08-04T17:39:47.973292Z",
     "iopub.status.busy": "2022-08-04T17:39:47.972789Z",
     "iopub.status.idle": "2022-08-04T17:39:47.981605Z",
     "shell.execute_reply": "2022-08-04T17:39:47.980688Z",
     "shell.execute_reply.started": "2022-08-04T17:39:47.973268Z"
    }
   },
   "outputs": [],
   "source": [
    "df.memory_usage()"
   ]
  },
  {
   "cell_type": "code",
   "execution_count": null,
   "metadata": {
    "execution": {
     "iopub.execute_input": "2022-08-04T17:39:48.212369Z",
     "iopub.status.busy": "2022-08-04T17:39:48.211915Z",
     "iopub.status.idle": "2022-08-04T17:39:48.332806Z",
     "shell.execute_reply": "2022-08-04T17:39:48.331938Z",
     "shell.execute_reply.started": "2022-08-04T17:39:48.212345Z"
    }
   },
   "outputs": [],
   "source": [
    "df.describe()"
   ]
  },
  {
   "cell_type": "markdown",
   "metadata": {},
   "source": [
    "#### Observations\n",
    "- There are no missing values in the dataset.\n",
    "- Purchase amount might have outliers."
   ]
  },
  {
   "cell_type": "code",
   "execution_count": null,
   "metadata": {
    "execution": {
     "iopub.execute_input": "2022-08-04T17:39:48.944883Z",
     "iopub.status.busy": "2022-08-04T17:39:48.944541Z",
     "iopub.status.idle": "2022-08-04T17:39:49.107911Z",
     "shell.execute_reply": "2022-08-04T17:39:49.106964Z",
     "shell.execute_reply.started": "2022-08-04T17:39:48.944855Z"
    }
   },
   "outputs": [],
   "source": [
    "# checking null values\n",
    "df.isnull().sum()"
   ]
  },
  {
   "cell_type": "markdown",
   "metadata": {},
   "source": [
    "**How many users are there in the dataset?**"
   ]
  },
  {
   "cell_type": "code",
   "execution_count": null,
   "metadata": {
    "execution": {
     "iopub.execute_input": "2022-08-04T17:39:49.560167Z",
     "iopub.status.busy": "2022-08-04T17:39:49.559871Z",
     "iopub.status.idle": "2022-08-04T17:39:49.571888Z",
     "shell.execute_reply": "2022-08-04T17:39:49.570150Z",
     "shell.execute_reply.started": "2022-08-04T17:39:49.560144Z"
    }
   },
   "outputs": [],
   "source": [
    "df['User_ID'].nunique()"
   ]
  },
  {
   "cell_type": "markdown",
   "metadata": {},
   "source": [
    "**How many products are there?**"
   ]
  },
  {
   "cell_type": "code",
   "execution_count": null,
   "metadata": {
    "execution": {
     "iopub.execute_input": "2022-08-04T17:39:50.230609Z",
     "iopub.status.busy": "2022-08-04T17:39:50.230102Z",
     "iopub.status.idle": "2022-08-04T17:39:50.279433Z",
     "shell.execute_reply": "2022-08-04T17:39:50.278586Z",
     "shell.execute_reply.started": "2022-08-04T17:39:50.230583Z"
    }
   },
   "outputs": [],
   "source": [
    "df['Product_ID'].nunique()"
   ]
  },
  {
   "cell_type": "markdown",
   "metadata": {},
   "source": [
    "**Value_counts for the following:**\n",
    "- Gender\n",
    "- Age\n",
    "- Occupation\n",
    "- City_Category\n",
    "- Stay_In_Current_City_Years\n",
    "- Marital_Status\n",
    "- Product_Category"
   ]
  },
  {
   "cell_type": "code",
   "execution_count": null,
   "metadata": {
    "execution": {
     "iopub.execute_input": "2022-08-04T17:39:51.281648Z",
     "iopub.status.busy": "2022-08-04T17:39:51.281303Z",
     "iopub.status.idle": "2022-08-04T17:39:52.185171Z",
     "shell.execute_reply": "2022-08-04T17:39:52.184092Z",
     "shell.execute_reply.started": "2022-08-04T17:39:51.281624Z"
    }
   },
   "outputs": [],
   "source": [
    "categorical_cols = ['Gender', 'Age', 'Occupation', 'City_Category', 'Stay_In_Current_City_Years', 'Marital_Status', 'Product_Category']\n",
    "df[categorical_cols].melt().groupby(['variable', 'value'])[['value']].count()/len(df)"
   ]
  },
  {
   "cell_type": "markdown",
   "metadata": {},
   "source": [
    "#### Observations\n",
    "- ~ 80% of the users are between the age 18-50 (40%: 26-35, 18%: 18-25, 20%: 36-45)\n",
    "- 75% of the users are **`Male`** and 25% are **`Female`**\n",
    "- 60% Single, 40% Married\n",
    "- 35% Staying in the city from 1 year, 18% from 2 years, 17% from 3 years\n",
    "- Total of 20 product categories are there\n",
    "- There are 20 differnent types of occupations in the city"
   ]
  },
  {
   "cell_type": "markdown",
   "metadata": {
    "execution": {
     "iopub.execute_input": "2022-08-02T17:24:12.255185Z",
     "iopub.status.busy": "2022-08-02T17:24:12.254749Z",
     "iopub.status.idle": "2022-08-02T17:24:12.637313Z",
     "shell.execute_reply": "2022-08-02T17:24:12.636178Z",
     "shell.execute_reply.started": "2022-08-02T17:24:12.255142Z"
    }
   },
   "source": [
    "### Univariate Analysis"
   ]
  },
  {
   "cell_type": "markdown",
   "metadata": {},
   "source": [
    "##### Understanding the distribution of data and detecting outlies for continuous variables"
   ]
  },
  {
   "cell_type": "code",
   "execution_count": null,
   "metadata": {
    "execution": {
     "iopub.execute_input": "2022-08-04T17:39:52.729149Z",
     "iopub.status.busy": "2022-08-04T17:39:52.728841Z",
     "iopub.status.idle": "2022-08-04T17:39:55.093287Z",
     "shell.execute_reply": "2022-08-04T17:39:55.092344Z",
     "shell.execute_reply.started": "2022-08-04T17:39:52.729127Z"
    }
   },
   "outputs": [],
   "source": [
    "plt.figure(figsize=(10, 6))\n",
    "sns.histplot(data=df, x='Purchase', kde=True)\n",
    "plt.show()"
   ]
  },
  {
   "cell_type": "code",
   "execution_count": null,
   "metadata": {
    "execution": {
     "iopub.execute_input": "2022-08-04T17:39:55.095019Z",
     "iopub.status.busy": "2022-08-04T17:39:55.094769Z",
     "iopub.status.idle": "2022-08-04T17:39:55.210909Z",
     "shell.execute_reply": "2022-08-04T17:39:55.210006Z",
     "shell.execute_reply.started": "2022-08-04T17:39:55.094997Z"
    }
   },
   "outputs": [],
   "source": [
    "sns.boxplot(data=df, x='Purchase', orient='h')\n",
    "plt.show()"
   ]
  },
  {
   "cell_type": "markdown",
   "metadata": {},
   "source": [
    "#### Observation\n",
    "- Purchase is having outliers"
   ]
  },
  {
   "cell_type": "markdown",
   "metadata": {
    "execution": {
     "iopub.execute_input": "2022-08-02T18:06:27.384348Z",
     "iopub.status.busy": "2022-08-02T18:06:27.383878Z",
     "iopub.status.idle": "2022-08-02T18:06:27.403512Z",
     "shell.execute_reply": "2022-08-02T18:06:27.402333Z",
     "shell.execute_reply.started": "2022-08-02T18:06:27.384309Z"
    }
   },
   "source": [
    "#### Understanding the distribution of data for the categorical variables\n",
    "- Gender\n",
    "- Age\n",
    "- Occupation\n",
    "- City_Category\n",
    "- Stay_In_Current_City_Years\n",
    "- Marital_Status\n",
    "- Product_Category"
   ]
  },
  {
   "cell_type": "code",
   "execution_count": null,
   "metadata": {
    "execution": {
     "iopub.execute_input": "2022-08-04T17:39:55.212596Z",
     "iopub.status.busy": "2022-08-04T17:39:55.212032Z",
     "iopub.status.idle": "2022-08-04T17:39:58.733310Z",
     "shell.execute_reply": "2022-08-04T17:39:58.732276Z",
     "shell.execute_reply.started": "2022-08-04T17:39:55.212567Z"
    }
   },
   "outputs": [],
   "source": [
    "categorical_cols = ['Gender', 'Occupation','City_Category','Marital_Status','Product_Category']\n",
    "\n",
    "fig, axs = plt.subplots(nrows=2, ncols=2, figsize=(16, 12))\n",
    "sns.countplot(data=df, x='Gender', ax=axs[0,0])\n",
    "sns.countplot(data=df, x='Occupation', ax=axs[0,1])\n",
    "sns.countplot(data=df, x='City_Category', ax=axs[1,0])\n",
    "sns.countplot(data=df, x='Marital_Status', ax=axs[1,1])\n",
    "plt.show()\n",
    "\n",
    "plt.figure(figsize=(10, 8))\n",
    "sns.countplot(data=df, x='Product_Category')\n",
    "plt.show()"
   ]
  },
  {
   "cell_type": "markdown",
   "metadata": {},
   "source": [
    "#### Observations\n",
    "- Most of the users are `Male`\n",
    "- There are 20 different types of `Occupation` and `Product_Category`\n",
    "- More users belong to `B` `City_Category`\n",
    "- More users are `Single` as compare to `Married`\n",
    "- `Product_Category` - `1, 5, 8, & 11` have highest purchasing frequency."
   ]
  },
  {
   "cell_type": "code",
   "execution_count": null,
   "metadata": {
    "execution": {
     "iopub.execute_input": "2022-08-04T17:39:58.736284Z",
     "iopub.status.busy": "2022-08-04T17:39:58.735924Z",
     "iopub.status.idle": "2022-08-04T17:39:58.985667Z",
     "shell.execute_reply": "2022-08-04T17:39:58.984172Z",
     "shell.execute_reply.started": "2022-08-04T17:39:58.736251Z"
    }
   },
   "outputs": [],
   "source": [
    "fig, axs = plt.subplots(nrows=1, ncols=2, figsize=(12, 8))\n",
    "\n",
    "data = df['Age'].value_counts(normalize=True)*100\n",
    "palette_color = sns.color_palette('BrBG_r')\n",
    "axs[0].pie(x=data.values, labels=data.index, autopct='%.0f%%', colors=palette_color)\n",
    "axs[0].set_title(\"Age\")\n",
    "\n",
    "data = df['Stay_In_Current_City_Years'].value_counts(normalize=True)*100\n",
    "palette_color = sns.color_palette('YlOrRd_r')\n",
    "axs[1].pie(x=data.values, labels=data.index, autopct='%.0f%%', colors=palette_color)\n",
    "axs[1].set_title(\"Stay_In_Current_City_Years\")\n",
    "\n",
    "\n",
    "plt.show()"
   ]
  },
  {
   "cell_type": "markdown",
   "metadata": {},
   "source": [
    "Upper two graphs are self-explanatory."
   ]
  },
  {
   "cell_type": "markdown",
   "metadata": {
    "execution": {
     "iopub.execute_input": "2022-08-02T18:35:24.168509Z",
     "iopub.status.busy": "2022-08-02T18:35:24.168015Z",
     "iopub.status.idle": "2022-08-02T18:35:24.174214Z",
     "shell.execute_reply": "2022-08-02T18:35:24.173334Z",
     "shell.execute_reply.started": "2022-08-02T18:35:24.168461Z"
    }
   },
   "source": [
    "### Bi-variate Analysis"
   ]
  },
  {
   "cell_type": "code",
   "execution_count": null,
   "metadata": {
    "execution": {
     "iopub.execute_input": "2022-08-04T17:39:58.987876Z",
     "iopub.status.busy": "2022-08-04T17:39:58.987530Z",
     "iopub.status.idle": "2022-08-04T17:40:03.289131Z",
     "shell.execute_reply": "2022-08-04T17:40:03.287732Z",
     "shell.execute_reply.started": "2022-08-04T17:39:58.987848Z"
    }
   },
   "outputs": [],
   "source": [
    "attrs = ['Gender', 'Age', 'Occupation', 'City_Category', 'Stay_In_Current_City_Years', 'Marital_Status', 'Product_Category']\n",
    "sns.set_style(\"white\")\n",
    "\n",
    "fig, axs = plt.subplots(nrows=3, ncols=2, figsize=(20, 16))\n",
    "fig.subplots_adjust(top=1.3)\n",
    "count = 0\n",
    "for row in range(3):\n",
    "    for col in range(2):\n",
    "        sns.boxplot(data=df, y='Purchase', x=attrs[count], ax=axs[row, col], palette='Set3')\n",
    "        axs[row,col].set_title(f\"Purchase vs {attrs[count]}\", pad=12, fontsize=13)\n",
    "        count += 1\n",
    "plt.show()\n",
    "\n",
    "plt.figure(figsize=(10, 8))\n",
    "sns.boxplot(data=df, y='Purchase', x=attrs[-1], palette='Set3')\n",
    "plt.show()"
   ]
  },
  {
   "cell_type": "markdown",
   "metadata": {},
   "source": [
    "### Multivariate Analysis"
   ]
  },
  {
   "cell_type": "code",
   "execution_count": null,
   "metadata": {
    "execution": {
     "iopub.execute_input": "2022-08-04T17:40:03.291635Z",
     "iopub.status.busy": "2022-08-04T17:40:03.291283Z",
     "iopub.status.idle": "2022-08-04T17:40:06.463462Z",
     "shell.execute_reply": "2022-08-04T17:40:06.462406Z",
     "shell.execute_reply.started": "2022-08-04T17:40:03.291609Z"
    }
   },
   "outputs": [],
   "source": [
    "fig, axs = plt.subplots(nrows=2, ncols=2, figsize=(20, 6))\n",
    "fig.subplots_adjust(top=1.5)\n",
    "sns.boxplot(data=df, y='Purchase', x='Gender', hue='Age', palette='Set3', ax=axs[0,0])\n",
    "sns.boxplot(data=df, y='Purchase', x='Gender', hue='City_Category', palette='Set3', ax=axs[0,1])\n",
    "\n",
    "sns.boxplot(data=df, y='Purchase', x='Gender', hue='Marital_Status', palette='Set3', ax=axs[1,0])\n",
    "sns.boxplot(data=df, y='Purchase', x='Gender', hue='Stay_In_Current_City_Years', palette='Set3', ax=axs[1,1])\n",
    "axs[1,1].legend(loc='upper left')\n",
    "\n",
    "plt.show()"
   ]
  },
  {
   "cell_type": "code",
   "execution_count": null,
   "metadata": {
    "execution": {
     "iopub.execute_input": "2022-08-04T17:40:43.639298Z",
     "iopub.status.busy": "2022-08-04T17:40:43.638967Z",
     "iopub.status.idle": "2022-08-04T17:40:43.654397Z",
     "shell.execute_reply": "2022-08-04T17:40:43.653097Z",
     "shell.execute_reply.started": "2022-08-04T17:40:43.639273Z"
    }
   },
   "outputs": [],
   "source": [
    "df.head(10)"
   ]
  },
  {
   "cell_type": "markdown",
   "metadata": {},
   "source": [
    "**Average amount spend per customer for Male and Female**"
   ]
  },
  {
   "cell_type": "code",
   "execution_count": null,
   "metadata": {
    "execution": {
     "iopub.execute_input": "2022-08-04T17:59:05.656338Z",
     "iopub.status.busy": "2022-08-04T17:59:05.656021Z",
     "iopub.status.idle": "2022-08-04T17:59:05.724015Z",
     "shell.execute_reply": "2022-08-04T17:59:05.722990Z",
     "shell.execute_reply.started": "2022-08-04T17:59:05.656314Z"
    }
   },
   "outputs": [],
   "source": [
    "amt_df = df.groupby(['User_ID', 'Gender'])[['Purchase']].sum()\n",
    "amt_df = amt_df.reset_index()\n",
    "amt_df"
   ]
  },
  {
   "cell_type": "code",
   "execution_count": null,
   "metadata": {
    "execution": {
     "iopub.execute_input": "2022-08-04T17:59:12.239482Z",
     "iopub.status.busy": "2022-08-04T17:59:12.239098Z",
     "iopub.status.idle": "2022-08-04T17:59:12.248562Z",
     "shell.execute_reply": "2022-08-04T17:59:12.247459Z",
     "shell.execute_reply.started": "2022-08-04T17:59:12.239457Z"
    }
   },
   "outputs": [],
   "source": [
    "# Gender wise value counts in avg_amt_df\n",
    "avg_amt_df['Gender'].value_counts()"
   ]
  },
  {
   "cell_type": "code",
   "execution_count": null,
   "metadata": {
    "execution": {
     "iopub.execute_input": "2022-08-04T17:59:31.226244Z",
     "iopub.status.busy": "2022-08-04T17:59:31.225926Z",
     "iopub.status.idle": "2022-08-04T17:59:31.623732Z",
     "shell.execute_reply": "2022-08-04T17:59:31.622248Z",
     "shell.execute_reply.started": "2022-08-04T17:59:31.226219Z"
    }
   },
   "outputs": [],
   "source": [
    "# histogram of average amount spend for each customer - Male & Female\n",
    "amt_df[amt_df['Gender']=='M']['Purchase'].hist(bins=35)\n",
    "plt.show()\n",
    "\n",
    "amt_df[amt_df['Gender']=='F']['Purchase'].hist(bins=35)\n",
    "plt.show()"
   ]
  },
  {
   "cell_type": "code",
   "execution_count": null,
   "metadata": {
    "execution": {
     "iopub.execute_input": "2022-08-04T19:43:17.534784Z",
     "iopub.status.busy": "2022-08-04T19:43:17.534106Z",
     "iopub.status.idle": "2022-08-04T19:43:17.544732Z",
     "shell.execute_reply": "2022-08-04T19:43:17.543881Z",
     "shell.execute_reply.started": "2022-08-04T19:43:17.534750Z"
    }
   },
   "outputs": [],
   "source": [
    "male_avg = amt_df[amt_df['Gender']=='M']['Purchase'].mean()\n",
    "female_avg = amt_df[amt_df['Gender']=='F']['Purchase'].mean()\n",
    "\n",
    "print(\"Average amount spend by Male customers: {:.2f}\".format(male_avg))\n",
    "print(\"Average amount spend by Female customers: {:.2f}\".format(female_avg))"
   ]
  },
  {
   "cell_type": "markdown",
   "metadata": {},
   "source": [
    "**Observation**\n",
    "\n",
    "1. Male customers spend more money than female customers"
   ]
  },
  {
   "cell_type": "code",
   "execution_count": null,
   "metadata": {
    "execution": {
     "iopub.execute_input": "2022-08-04T18:03:29.450306Z",
     "iopub.status.busy": "2022-08-04T18:03:29.449900Z",
     "iopub.status.idle": "2022-08-04T18:03:29.457261Z",
     "shell.execute_reply": "2022-08-04T18:03:29.456199Z",
     "shell.execute_reply.started": "2022-08-04T18:03:29.450204Z"
    }
   },
   "outputs": [],
   "source": [
    "male_df = amt_df[amt_df['Gender']=='M']\n",
    "female_df = amt_df[amt_df['Gender']=='F']"
   ]
  },
  {
   "cell_type": "code",
   "execution_count": null,
   "metadata": {
    "execution": {
     "iopub.execute_input": "2022-08-04T18:16:42.761404Z",
     "iopub.status.busy": "2022-08-04T18:16:42.761054Z",
     "iopub.status.idle": "2022-08-04T18:16:43.522672Z",
     "shell.execute_reply": "2022-08-04T18:16:43.521475Z",
     "shell.execute_reply.started": "2022-08-04T18:16:42.761379Z"
    }
   },
   "outputs": [],
   "source": [
    "genders = [\"M\", \"F\"]\n",
    "\n",
    "male_sample_size = 3000\n",
    "female_sample_size = 1500\n",
    "num_repitions = 1000\n",
    "male_means = []\n",
    "female_means = []\n",
    "\n",
    "for _ in range(num_repitions):\n",
    "    male_mean = male_df.sample(male_sample_size, replace=True)['Purchase'].mean()\n",
    "    female_mean = female_df.sample(female_sample_size, replace=True)['Purchase'].mean()\n",
    "    \n",
    "    male_means.append(male_mean)\n",
    "    female_means.append(female_mean)"
   ]
  },
  {
   "cell_type": "code",
   "execution_count": null,
   "metadata": {
    "execution": {
     "iopub.execute_input": "2022-08-04T18:19:14.612773Z",
     "iopub.status.busy": "2022-08-04T18:19:14.612445Z",
     "iopub.status.idle": "2022-08-04T18:19:15.056677Z",
     "shell.execute_reply": "2022-08-04T18:19:15.055706Z",
     "shell.execute_reply.started": "2022-08-04T18:19:14.612749Z"
    }
   },
   "outputs": [],
   "source": [
    "fig, axis = plt.subplots(nrows=1, ncols=2, figsize=(20, 6))\n",
    "\n",
    "axis[0].hist(male_means, bins=35)\n",
    "axis[1].hist(female_means, bins=35)\n",
    "axis[0].set_title(\"Male - Distribution of means, Sample size: 3000\")\n",
    "axis[1].set_title(\"Female - Distribution of means, Sample size: 1500\")\n",
    "\n",
    "plt.show()"
   ]
  },
  {
   "cell_type": "code",
   "execution_count": null,
   "metadata": {
    "execution": {
     "iopub.execute_input": "2022-08-04T18:44:06.744117Z",
     "iopub.status.busy": "2022-08-04T18:44:06.743385Z",
     "iopub.status.idle": "2022-08-04T18:44:06.752698Z",
     "shell.execute_reply": "2022-08-04T18:44:06.751487Z",
     "shell.execute_reply.started": "2022-08-04T18:44:06.744086Z"
    }
   },
   "outputs": [],
   "source": [
    "print(\"Population mean - Mean of sample means of amount spend for Male: {:.2f}\".format(np.mean(male_means)))\n",
    "print(\"Population mean - Mean of sample means of amount spend for Female: {:.2f}\".format(np.mean(female_means)))\n",
    "\n",
    "print(\"\\nMale - Sample mean: {:.2f} Sample std: {:.2f}\".format(male_df['Purchase'].mean(), male_df['Purchase'].std()))\n",
    "print(\"Female - Sample mean: {:.2f} Sample std: {:.2f}\".format(female_df['Purchase'].mean(), female_df['Purchase'].std()))"
   ]
  },
  {
   "cell_type": "markdown",
   "metadata": {},
   "source": [
    "**Observation**\n",
    "\n",
    "Now using the **Central Limit Theorem** for the **population** we can say that:\n",
    "1. Average amount spend by male customers is **9,26,341.86**\n",
    "2. Average amount spend by female customers is **7,11,704.09**"
   ]
  },
  {
   "cell_type": "code",
   "execution_count": null,
   "metadata": {
    "execution": {
     "iopub.execute_input": "2022-08-04T19:39:04.517842Z",
     "iopub.status.busy": "2022-08-04T19:39:04.517493Z",
     "iopub.status.idle": "2022-08-04T19:39:04.527823Z",
     "shell.execute_reply": "2022-08-04T19:39:04.526210Z",
     "shell.execute_reply.started": "2022-08-04T19:39:04.517818Z"
    }
   },
   "outputs": [],
   "source": [
    "male_margin_of_error_clt = 1.96*male_df['Purchase'].std()/np.sqrt(len(male_df))\n",
    "male_sample_mean = male_df['Purchase'].mean()\n",
    "male_lower_lim = male_sample_mean - male_margin_of_error_clt\n",
    "male_upper_lim = male_sample_mean + male_margin_of_error_clt\n",
    "\n",
    "female_margin_of_error_clt = 1.96*female_df['Purchase'].std()/np.sqrt(len(female_df))\n",
    "female_sample_mean = female_df['Purchase'].mean()\n",
    "female_lower_lim = female_sample_mean - female_margin_of_error_clt\n",
    "female_upper_lim = female_sample_mean + female_margin_of_error_clt\n",
    "\n",
    "print(\"Male confidence interval of means: ({:.2f}, {:.2f})\".format(male_lower_lim, male_upper_lim))\n",
    "print(\"Female confidence interval of means: ({:.2f}, {:.2f})\".format(female_lower_lim, female_upper_lim))"
   ]
  },
  {
   "cell_type": "markdown",
   "metadata": {},
   "source": [
    "Now we can infer about the population that, **95% of the times**:\n",
    "\n",
    "1. Average amount spend by male customer will lie in between: **(895617.83, 955070.97)**\n",
    "2. Average amount spend by female customer will lie in between: **(673254.77, 750794.02)**"
   ]
  },
  {
   "cell_type": "markdown",
   "metadata": {},
   "source": [
    "#### Doing the same activity for married vs unmarried"
   ]
  },
  {
   "cell_type": "code",
   "execution_count": null,
   "metadata": {
    "execution": {
     "iopub.execute_input": "2022-08-04T19:42:19.120325Z",
     "iopub.status.busy": "2022-08-04T19:42:19.119858Z",
     "iopub.status.idle": "2022-08-04T19:42:19.132760Z",
     "shell.execute_reply": "2022-08-04T19:42:19.131725Z",
     "shell.execute_reply.started": "2022-08-04T19:42:19.120300Z"
    }
   },
   "outputs": [],
   "source": [
    "amt_df"
   ]
  },
  {
   "cell_type": "code",
   "execution_count": null,
   "metadata": {
    "execution": {
     "iopub.execute_input": "2022-08-04T19:44:42.529346Z",
     "iopub.status.busy": "2022-08-04T19:44:42.528818Z",
     "iopub.status.idle": "2022-08-04T19:44:42.595485Z",
     "shell.execute_reply": "2022-08-04T19:44:42.594837Z",
     "shell.execute_reply.started": "2022-08-04T19:44:42.529320Z"
    }
   },
   "outputs": [],
   "source": [
    "amt_df = df.groupby(['User_ID', 'Marital_Status'])[['Purchase']].sum()\n",
    "amt_df = amt_df.reset_index()\n",
    "amt_df"
   ]
  },
  {
   "cell_type": "code",
   "execution_count": null,
   "metadata": {
    "execution": {
     "iopub.execute_input": "2022-08-04T19:48:50.022733Z",
     "iopub.status.busy": "2022-08-04T19:48:50.022413Z",
     "iopub.status.idle": "2022-08-04T19:48:50.030167Z",
     "shell.execute_reply": "2022-08-04T19:48:50.029488Z",
     "shell.execute_reply.started": "2022-08-04T19:48:50.022709Z"
    }
   },
   "outputs": [],
   "source": [
    "amt_df['Marital_Status'].value_counts()"
   ]
  },
  {
   "cell_type": "code",
   "execution_count": null,
   "metadata": {
    "execution": {
     "iopub.execute_input": "2022-08-04T19:53:45.717325Z",
     "iopub.status.busy": "2022-08-04T19:53:45.717016Z",
     "iopub.status.idle": "2022-08-04T19:53:47.505957Z",
     "shell.execute_reply": "2022-08-04T19:53:47.504399Z",
     "shell.execute_reply.started": "2022-08-04T19:53:45.717300Z"
    }
   },
   "outputs": [],
   "source": [
    "marid_samp_size = 3000\n",
    "unmarid_sample_size = 2000\n",
    "num_repitions = 1000\n",
    "marid_means = []\n",
    "unmarid_means = []\n",
    "\n",
    "for _ in range(num_repitions):\n",
    "    marid_mean = amt_df[amt_df['Marital_Status']==1].sample(marid_samp_size, replace=True)['Purchase'].mean()\n",
    "    unmarid_mean = amt_df[amt_df['Marital_Status']==0].sample(unmarid_sample_size, replace=True)['Purchase'].mean()\n",
    "    \n",
    "    marid_means.append(marid_mean)\n",
    "    unmarid_means.append(unmarid_mean)\n",
    "    \n",
    "    \n",
    "fig, axis = plt.subplots(nrows=1, ncols=2, figsize=(20, 6))\n",
    "\n",
    "axis[0].hist(marid_means, bins=35)\n",
    "axis[1].hist(unmarid_means, bins=35)\n",
    "axis[0].set_title(\"Married - Distribution of means, Sample size: 3000\")\n",
    "axis[1].set_title(\"Unmarried - Distribution of means, Sample size: 2000\")\n",
    "\n",
    "plt.show()\n",
    "\n",
    "print(\"Population mean - Mean of sample means of amount spend for Married: {:.2f}\".format(np.mean(marid_means)))\n",
    "print(\"Population mean - Mean of sample means of amount spend for Unmarried: {:.2f}\".format(np.mean(unmarid_means)))\n",
    "\n",
    "print(\"\\nMarried - Sample mean: {:.2f} Sample std: {:.2f}\".format(amt_df[amt_df['Marital_Status']==1]['Purchase'].mean(), amt_df[amt_df['Marital_Status']==1]['Purchase'].std()))\n",
    "print(\"Unmarried - Sample mean: {:.2f} Sample std: {:.2f}\".format(amt_df[amt_df['Marital_Status']==0]['Purchase'].mean(), amt_df[amt_df['Marital_Status']==0]['Purchase'].std()))"
   ]
  },
  {
   "cell_type": "code",
   "execution_count": null,
   "metadata": {
    "execution": {
     "iopub.execute_input": "2022-08-04T19:58:58.458639Z",
     "iopub.status.busy": "2022-08-04T19:58:58.457866Z",
     "iopub.status.idle": "2022-08-04T19:58:58.468014Z",
     "shell.execute_reply": "2022-08-04T19:58:58.467057Z",
     "shell.execute_reply.started": "2022-08-04T19:58:58.458605Z"
    }
   },
   "outputs": [],
   "source": [
    "for val in [\"Married\", \"Unmarried\"]:\n",
    "    \n",
    "    new_val = 1 if val == \"Married\" else 0\n",
    "    \n",
    "    new_df = amt_df[amt_df['Marital_Status']==new_val] \n",
    "    \n",
    "    margin_of_error_clt = 1.96*new_df['Purchase'].std()/np.sqrt(len(new_df))\n",
    "    sample_mean = new_df['Purchase'].mean()\n",
    "    lower_lim = sample_mean - margin_of_error_clt\n",
    "    upper_lim = sample_mean + margin_of_error_clt\n",
    "\n",
    "    print(\"{} confidence interval of means: ({:.2f}, {:.2f})\".format(val, lower_lim, upper_lim))"
   ]
  },
  {
   "cell_type": "markdown",
   "metadata": {},
   "source": [
    "### Calculating the average amount spent by Age"
   ]
  },
  {
   "cell_type": "code",
   "execution_count": null,
   "metadata": {
    "execution": {
     "iopub.execute_input": "2022-08-04T20:02:17.838539Z",
     "iopub.status.busy": "2022-08-04T20:02:17.837995Z",
     "iopub.status.idle": "2022-08-04T20:02:17.920234Z",
     "shell.execute_reply": "2022-08-04T20:02:17.919118Z",
     "shell.execute_reply.started": "2022-08-04T20:02:17.838501Z"
    }
   },
   "outputs": [],
   "source": [
    "amt_df = df.groupby(['User_ID', 'Age'])[['Purchase']].sum()\n",
    "amt_df = amt_df.reset_index()\n",
    "amt_df"
   ]
  },
  {
   "cell_type": "code",
   "execution_count": null,
   "metadata": {
    "execution": {
     "iopub.execute_input": "2022-08-04T20:02:39.142677Z",
     "iopub.status.busy": "2022-08-04T20:02:39.141740Z",
     "iopub.status.idle": "2022-08-04T20:02:39.151400Z",
     "shell.execute_reply": "2022-08-04T20:02:39.150223Z",
     "shell.execute_reply.started": "2022-08-04T20:02:39.142642Z"
    }
   },
   "outputs": [],
   "source": [
    "amt_df['Age'].value_counts()"
   ]
  },
  {
   "cell_type": "code",
   "execution_count": null,
   "metadata": {
    "execution": {
     "iopub.execute_input": "2022-08-04T20:09:21.331940Z",
     "iopub.status.busy": "2022-08-04T20:09:21.331631Z",
     "iopub.status.idle": "2022-08-04T20:09:27.856907Z",
     "shell.execute_reply": "2022-08-04T20:09:27.855970Z",
     "shell.execute_reply.started": "2022-08-04T20:09:21.331916Z"
    }
   },
   "outputs": [],
   "source": [
    "sample_size = 200\n",
    "num_repitions = 1000\n",
    "\n",
    "all_means = {}\n",
    "\n",
    "age_intervals = ['26-35', '36-45', '18-25', '46-50', '51-55', '55+', '0-17']\n",
    "for age_interval in age_intervals:\n",
    "    all_means[age_interval] = []\n",
    "\n",
    "for age_interval in age_intervals:\n",
    "    for _ in range(num_repitions):\n",
    "        mean = amt_df[amt_df['Age']==age_interval].sample(sample_size, replace=True)['Purchase'].mean()\n",
    "        all_means[age_interval].append(mean)"
   ]
  },
  {
   "cell_type": "code",
   "execution_count": null,
   "metadata": {
    "execution": {
     "iopub.execute_input": "2022-08-04T20:11:16.823840Z",
     "iopub.status.busy": "2022-08-04T20:11:16.823478Z",
     "iopub.status.idle": "2022-08-04T20:11:16.840041Z",
     "shell.execute_reply": "2022-08-04T20:11:16.839142Z",
     "shell.execute_reply.started": "2022-08-04T20:11:16.823813Z"
    }
   },
   "outputs": [],
   "source": [
    "for val in ['26-35', '36-45', '18-25', '46-50', '51-55', '55+', '0-17']:\n",
    "    \n",
    "    new_df = amt_df[amt_df['Age']==val] \n",
    "    \n",
    "    margin_of_error_clt = 1.96*new_df['Purchase'].std()/np.sqrt(len(new_df))\n",
    "    sample_mean = new_df['Purchase'].mean()\n",
    "    lower_lim = sample_mean - margin_of_error_clt\n",
    "    upper_lim = sample_mean + margin_of_error_clt\n",
    "\n",
    "    print(\"For age {} --> confidence interval of means: ({:.2f}, {:.2f})\".format(val, lower_lim, upper_lim))"
   ]
  },
  {
   "cell_type": "markdown",
   "metadata": {},
   "source": [
    "### Insights\n",
    "\n",
    "- ~ 80% of the users are between the age 18-50 (40%: 26-35, 18%: 18-25, 20%: 36-45)\n",
    "- 75% of the users are **`Male`** and 25% are **`Female`**\n",
    "- 60% Single, 40% Married\n",
    "- 35% Staying in the city from 1 year, 18% from 2 years, 17% from 3 years\n",
    "- Total of 20 product categories are there\n",
    "- There are 20 differnent types of occupations in the city\n",
    "\n",
    "<br>\n",
    "\n",
    "\n",
    "- Most of the users are `Male`\n",
    "- There are 20 different types of `Occupation` and `Product_Category`\n",
    "- More users belong to `B` `City_Category`\n",
    "- More users are `Single` as compare to `Married`\n",
    "- `Product_Category` - `1, 5, 8, & 11` have highest purchasing frequency.\n",
    "\n",
    "<br>\n",
    "\n",
    "- **Average amount** spend by **Male** customers: **925344.40**\n",
    "- **Average amount** spend by **Female** customers: **712024.39**\n",
    "\n",
    "<br>\n",
    "\n",
    "#### Confidence Interval by Gender\n",
    "Now using the **Central Limit Theorem** for the **population**:\n",
    "1. Average amount spend by **male** customers is **9,26,341.86**\n",
    "2. Average amount spend by **female** customers is **7,11,704.09**\n",
    "\n",
    "Now we can infer about the population that, **95% of the times**:\n",
    "\n",
    "1. Average amount spend by **male** customer will lie in between: **(895617.83, 955070.97)**\n",
    "2. Average amount spend by **female** customer will lie in between: **(673254.77, 750794.02)**\n",
    "\n",
    "\n",
    "#### Confidence Interval by Marital_Status\n",
    "1. **Married** confidence interval of means: **(806668.83, 880384.76)**\n",
    "2. **Unmarried** confidence interval of means: **(848741.18, 912410.38)**\n",
    "\n",
    "\n",
    "#### Confidence Interval by Age\n",
    "\n",
    "1. For **age 26-35** --> confidence interval of means: **(945034.42, 1034284.21)**\n",
    "2. For **age 36-45** --> confidence interval of means: **(823347.80, 935983.62)**\n",
    "3. For **age 18-25** --> confidence interval of means: **(801632.78, 908093.46)**\n",
    "4. For **age 46-50** --> confidence interval of means: **(713505.63, 871591.93)**\n",
    "5. For **age 51-55** --> confidence interval of means: **(692392.43, 834009.42)**\n",
    "6. For **age 55+** --> confidence interval of means: **(476948.26, 602446.23)**\n",
    "7. For **age 0-17** --> confidence interval of means: **(527662.46, 710073.17)**"
   ]
  },
  {
   "cell_type": "markdown",
   "metadata": {},
   "source": [
    "### Recommendations\n",
    "\n",
    "1. Men spent more money than women, So company should focus on retaining the male customers and getting more male customers.\n",
    "2. **Product_Category - 1, 5, 8, & 11** have highest purchasing frequency. it means these are the products in these categories are liked more by customers. Company can focus on selling more of these products or selling more of the products which are purchased less.\n",
    "3. **Unmarried** customers spend more money than married customers, So company should focus on acquisition of Unmarried customers.\n",
    "4. Customers in the **age 18-45** spend more money than the others, So company should focus on acquisition of customers who are in the **age 18-45**\n",
    "5. Male customers living in City_Category C spend more money than other male customers living in B or C, Selling more products in the City_Category C will help the company increase the revenue."
   ]
  },
  {
   "cell_type": "code",
   "execution_count": null,
   "metadata": {},
   "outputs": [],
   "source": []
  }
 ],
 "metadata": {
  "kernelspec": {
   "display_name": "Python 3 (ipykernel)",
   "language": "python",
   "name": "python3"
  },
  "language_info": {
   "codemirror_mode": {
    "name": "ipython",
    "version": 3
   },
   "file_extension": ".py",
   "mimetype": "text/x-python",
   "name": "python",
   "nbconvert_exporter": "python",
   "pygments_lexer": "ipython3",
   "version": "3.9.7"
  }
 },
 "nbformat": 4,
 "nbformat_minor": 4
}
